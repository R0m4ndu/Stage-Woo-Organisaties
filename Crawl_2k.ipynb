{
 "cells": [
  {
   "cell_type": "markdown",
   "id": "40ddc120",
   "metadata": {},
   "source": [
    "# crawl all waterschap beschikkingen\n",
    "\n",
    "* marx\n",
    "* 2023-10-18\n",
    "* variant op Den Haag sjabloon <localhost:8888/notebooks/WooIR/wobir/Projects/WooQualityCheck/Gemeentes/DenHaag/Crawl_gm0518_2i.ipynb>\n",
    "\n",
    "## Sjaboon  (wij doen het hier net effe anders)\n",
    "\n",
    "[Den Haag s Woo dossiers](https://woo.denhaag.nl/wob-besluiten/) zijn een mooi voorbeeld van een publicatie-methode die heel goed netjes te scrape  valt. Het bestaat uit 3 onderdelen:\n",
    "\n",
    "1. Een pagina met een lijst van alle woo-dossiers,  met een link naar een aparte pagina voor elk dossier.\n",
    "    * Het gebruik van \"pagination in de URL\" om naar de volgende pagina in die lijst te gaan.\n",
    "    * **Stap 1 i het extractiescript gebruikt dit.**\n",
    "2. Elk Woo-dossier heeft een eigen vaste pagina met een eigen URL.\n",
    "    * Die worden in **stap 2** verzameld inn een lijst.\n",
    "3. Elke pagina met een Woo-dossier heeft een vaste structuur die via XPad om te zettenn is naar ons schema.\n",
    "    * Meta data op de HTML pagina met een vast schema (dc, og  of iets vergelijkbaars) maakt het verzamelen van metadata op dossier  niveau vaak eenvoudiger en robuuster.\n",
    "    * De extractioe per dossier gebeurt in **stap 3**.\n",
    "4. Tenslotte doenn we de extractie over alle urls van xde woo-dossiers, en slaan dat allemaal op in eeen json datafile. **stap 4 en 5**."
   ]
  },
  {
   "cell_type": "code",
   "execution_count": 5,
   "id": "d8359412",
   "metadata": {
    "execution": {
     "iopub.execute_input": "2023-09-27T15:30:58.550844Z",
     "iopub.status.busy": "2023-09-27T15:30:58.550528Z",
     "iopub.status.idle": "2023-09-27T15:30:59.158733Z",
     "shell.execute_reply": "2023-09-27T15:30:59.157998Z"
    }
   },
   "outputs": [],
   "source": [
    "\n",
    "import re\n",
    "from bs4 import BeautifulSoup\n",
    "from lxml import etree\n",
    "import pandas as pd\n",
    "import json\n",
    "import requests\n",
    "import gzip"
   ]
  },
  {
   "cell_type": "markdown",
   "id": "2b82155e",
   "metadata": {},
   "source": [
    "# globals"
   ]
  },
  {
   "cell_type": "code",
   "execution_count": 48,
   "id": "0eadd164",
   "metadata": {
    "execution": {
     "iopub.execute_input": "2023-09-27T15:30:59.161487Z",
     "iopub.status.busy": "2023-09-27T15:30:59.161141Z",
     "iopub.status.idle": "2023-09-27T15:30:59.164743Z",
     "shell.execute_reply": "2023-09-27T15:30:59.164061Z"
    }
   },
   "outputs": [],
   "source": [
    "DC_TYPE = '2k'\n",
    "DC_PUBLISHER='ws0646'\n",
    "DC_CREATOR='Waterschap Hunze En Aa\\'s'"
   ]
  },
  {
   "cell_type": "markdown",
   "id": "7f126b5b",
   "metadata": {},
   "source": [
    "# Extractie functies"
   ]
  },
  {
   "cell_type": "code",
   "execution_count": 28,
   "id": "9c99270a",
   "metadata": {
    "execution": {
     "iopub.execute_input": "2023-09-27T15:30:59.167117Z",
     "iopub.status.busy": "2023-09-27T15:30:59.166870Z",
     "iopub.status.idle": "2023-09-27T15:30:59.178307Z",
     "shell.execute_reply": "2023-09-27T15:30:59.177658Z"
    }
   },
   "outputs": [],
   "source": [
    "def crawl_all_pages(url,page_range=range(100)):\n",
    "    '''Crawl all pages from a paginated list page with URL and pagerange.\n",
    "    Simply concatenate all of them and return that as a strng. \n",
    "    From that string we will extract all pages we want'''\n",
    "    pages=''\n",
    "    for p in page_range:\n",
    "        u= url+str(p)\n",
    "        #print (u)\n",
    "        ef = !curl -s \"$u\"\n",
    "        pages=pages+'\\n'+ ''.join(ef)\n",
    "    return pages\n",
    "\n",
    "\n",
    "\n",
    "\n",
    "def xpadje(element,path_expression):\n",
    "    if element.xpath(path_expression):\n",
    "        return element.xpath(path_expression)[0]\n",
    "    else:\n",
    "        \n",
    "        return ''\n",
    "    \n",
    "def pak_meta(element,property_value='dc:title'):\n",
    "    '''Geef de waarde van het @content attribuut in het meta element met @property waarde property_value.\n",
    "    Als het niet bestaat geef lege string'''\n",
    "    xpad= './/meta[@property=\"WAARDE\"]/@content'.replace('WAARDE',property_value)\n",
    "    return xpadje(element, xpad)\n",
    "    \n",
    "  \n",
    "    \n",
    "def extract_links(woodata,dc_source_xpad='@href', dc_title_xpad='.//text()'):\n",
    "    '''Extract the list of document dicts from woodata which is a list of a elements from the HTML page.\n",
    "    One usually only has to finetune the dc_title_xpad'''\n",
    "    L=[]\n",
    "    for e in woodata:\n",
    "        D=dict()\n",
    "        \n",
    "        D[\"dc_source\"]= xpadje(e,dc_source_xpad)\n",
    "        D[\"dc_title\"]= ''.join(e.xpath(dc_title_xpad)).strip() \n",
    "        if 'besluit'.lower() in D[\"dc_title\"].lower() :\n",
    "            D[\"dc_type\"]='besluit' \n",
    "        elif 'verzoek'.lower() in D[\"dc_title\"].lower() :\n",
    "            D[\"dc_type\"]='verzoek' \n",
    "        elif 'inventaris'.lower() in D[\"dc_title\"].lower() :\n",
    "            D[\"dc_type\"]='inventarislijst' \n",
    "        else:\n",
    "            D[\"dc_type\"]='bijlage' \n",
    "        D[\"foi_url_on_web\"]= True #'true'\n",
    "        L.append(D) \n",
    "    return  L"
   ]
  },
  {
   "cell_type": "markdown",
   "id": "64069e06",
   "metadata": {},
   "source": [
    "# step 1 crawl all pages with links to woo dossiers\n",
    "\n",
    "* we halen hem op in stapjes van 10 steeds\n",
    "\n",
    "## todo\n",
    "\n",
    "* Die 600 is hardcoded. Niet goed. Ga eerst kijken hoeveel hits er zijn en pas script dan dynamisch aan."
   ]
  },
  {
   "cell_type": "code",
   "execution_count": 42,
   "id": "08d3a892",
   "metadata": {
    "execution": {
     "iopub.execute_input": "2023-09-27T15:30:59.180994Z",
     "iopub.status.busy": "2023-09-27T15:30:59.180727Z",
     "iopub.status.idle": "2023-09-27T15:32:05.658839Z",
     "shell.execute_reply": "2023-09-27T15:32:05.657357Z"
    }
   },
   "outputs": [],
   "source": [
    "URL=('https://zoek.officielebekendmakingen.nl/resultaten?'\n",
    "     'q=(c.product-area==%22officielepublicaties%22)and((w.organisatietype==%22waterschap%22))'\n",
    "     'and(((w.publicatienaam==%22Tractatenblad%22))or((w.publicatienaam==%22Staatsblad%22))'\n",
    "     'or((w.publicatienaam==%22Staatscourant%22))or((w.publicatienaam==%22Gemeenteblad%22))'\n",
    "     'or((w.publicatienaam==%22Provinciaal%20blad%22))or((w.publicatienaam==%22Waterschapsblad%22))'\n",
    "     'or((w.publicatienaam==%22Blad%20gemeenschappelijke%20regeling%22)))'\n",
    "     '%20AND%20dt.creator==%22Waterschap%20Hunze%20en%20Aa%27s%22&'\n",
    "     'zv=&col=AlleBekendmakingen&svel=Publicatiedatum&svol=Aflopend&sf=po|Waterschap+Hunze+en+Aa%27s&pg='\n",
    "    )\n",
    "page_range=range(10,600,10) ## todo dit moet nog uitgeprogrameeerd worden\n",
    "pages = crawl_all_pages(URL,page_range )"
   ]
  },
  {
   "cell_type": "markdown",
   "id": "4fe1f8cb",
   "metadata": {},
   "source": [
    "# step 2 extract links to woo dosiers\n",
    "\n",
    "* fine tune "
   ]
  },
  {
   "cell_type": "code",
   "execution_count": 46,
   "id": "558795f7",
   "metadata": {
    "execution": {
     "iopub.execute_input": "2023-09-27T15:32:05.663093Z",
     "iopub.status.busy": "2023-09-27T15:32:05.662687Z",
     "iopub.status.idle": "2023-09-27T15:32:05.672812Z",
     "shell.execute_reply": "2023-09-27T15:32:05.672206Z"
    }
   },
   "outputs": [
    {
     "name": "stdout",
     "output_type": "stream",
     "text": [
      "34952 528 ['wsb-2023-12405', 'wsb-2023-12405', 'wsb-2023-12217', 'wsb-2023-12217', 'wsb-2023-12219']\n"
     ]
    }
   ],
   "source": [
    "woos=re.findall(r'href=\"(.*?)\"',pages)\n",
    "\n",
    "woos= [u for u in woos if u.endswith('html') and not '/' in u ]\n",
    "woos=[u.replace('.html','') for u in woos]\n",
    "print(len(woos), len(set(woos)), woos[:5])\n",
    "woos=list(set(woos))"
   ]
  },
  {
   "cell_type": "markdown",
   "id": "9ec71d51",
   "metadata": {},
   "source": [
    "# step 3 download xml files"
   ]
  },
  {
   "cell_type": "code",
   "execution_count": 50,
   "id": "fac3df5e",
   "metadata": {
    "execution": {
     "iopub.execute_input": "2023-09-27T15:32:05.675682Z",
     "iopub.status.busy": "2023-09-27T15:32:05.675365Z",
     "iopub.status.idle": "2023-09-27T15:32:05.688007Z",
     "shell.execute_reply": "2023-09-27T15:32:05.687515Z"
    }
   },
   "outputs": [],
   "source": [
    "def make_urls(ob_id):\n",
    "    u= 'https://zoek.officielebekendmakingen.nl/'+ ob_id  \n",
    "    return (u+'.xml', u+'/metadata.xml') "
   ]
  },
  {
   "cell_type": "code",
   "execution_count": 49,
   "id": "b1613f48",
   "metadata": {},
   "outputs": [],
   "source": [
    "#!mkdir $DC_PUBLISHER"
   ]
  },
  {
   "cell_type": "markdown",
   "id": "199a0e11",
   "metadata": {},
   "source": [
    "# stap 4\n",
    "\n",
    "* Extraheer u de data voor elk woodossier i n `woos`."
   ]
  },
  {
   "cell_type": "code",
   "execution_count": null,
   "id": "909d7ed4",
   "metadata": {
    "execution": {
     "iopub.execute_input": "2023-09-27T15:32:05.690740Z",
     "iopub.status.busy": "2023-09-27T15:32:05.690497Z",
     "iopub.status.idle": "2023-09-27T15:39:53.615857Z",
     "shell.execute_reply": "2023-09-27T15:39:53.614457Z"
    }
   },
   "outputs": [],
   "source": [
    "#%%time\n",
    "\n",
    "%cd $DC_PUBLISHER\n",
    "for ob_id in woos[:2]:\n",
    "    try:\n",
    "        data,metadata= make_urls(ob_id)\n",
    "        #!cd $DC_PUBLISHER && { curl -O $data ;curl -O $metadata; cd -; }\n",
    "        metafilename= ob_id+\".metadata.xml\"\n",
    "        !curl  --silent -O $data ;curl --silent  $metadata >$metafilename;\n",
    "    except:\n",
    "        print('WRONG',ob_id)\n",
    "# gzip all files\n",
    "!gzip *\n",
    "%cd ..\n",
    "!ls  $DC_PUBLISHER |wc\n",
    "!du -hs $DC_PUBLISHER"
   ]
  },
  {
   "cell_type": "markdown",
   "id": "ece21847",
   "metadata": {},
   "source": [
    "# step 4 trasform into pandas   \n",
    "\n",
    "For doig data-analysis and transformation"
   ]
  },
  {
   "cell_type": "code",
   "execution_count": 71,
   "id": "e1510841",
   "metadata": {},
   "outputs": [
    {
     "data": {
      "text/html": [
       "<div>\n",
       "<style scoped>\n",
       "    .dataframe tbody tr th:only-of-type {\n",
       "        vertical-align: middle;\n",
       "    }\n",
       "\n",
       "    .dataframe tbody tr th {\n",
       "        vertical-align: top;\n",
       "    }\n",
       "\n",
       "    .dataframe thead th {\n",
       "        text-align: right;\n",
       "    }\n",
       "</style>\n",
       "<table border=\"1\" class=\"dataframe\">\n",
       "  <thead>\n",
       "    <tr style=\"text-align: right;\">\n",
       "      <th></th>\n",
       "      <th>name</th>\n",
       "      <th>scheme</th>\n",
       "      <th>content</th>\n",
       "      <th>metadata</th>\n",
       "    </tr>\n",
       "  </thead>\n",
       "  <tbody>\n",
       "    <tr>\n",
       "      <th>0</th>\n",
       "      <td>OVERHEID.organisationType</td>\n",
       "      <td>OVERHEID.Organisatietype</td>\n",
       "      <td>waterschap</td>\n",
       "      <td>NaN</td>\n",
       "    </tr>\n",
       "    <tr>\n",
       "      <th>1</th>\n",
       "      <td>OVERHEIDop.publicationName</td>\n",
       "      <td>NaN</td>\n",
       "      <td>Waterschapsblad</td>\n",
       "      <td>NaN</td>\n",
       "    </tr>\n",
       "    <tr>\n",
       "      <th>2</th>\n",
       "      <td>OVERHEIDop.doctype</td>\n",
       "      <td>NaN</td>\n",
       "      <td>Officiële Publicaties, versie 1.1</td>\n",
       "      <td>NaN</td>\n",
       "    </tr>\n",
       "    <tr>\n",
       "      <th>3</th>\n",
       "      <td>OVERHEIDop.configuratie</td>\n",
       "      <td>NaN</td>\n",
       "      <td>https://repository.officiele-overheidspublicat...</td>\n",
       "      <td>NaN</td>\n",
       "    </tr>\n",
       "    <tr>\n",
       "      <th>4</th>\n",
       "      <td>DC.creator</td>\n",
       "      <td>OVERHEID.Waterschap</td>\n",
       "      <td>Waterschap Hunze en Aa's</td>\n",
       "      <td>NaN</td>\n",
       "    </tr>\n",
       "    <tr>\n",
       "      <th>5</th>\n",
       "      <td>DC.type</td>\n",
       "      <td>OVERHEIDop.Rubriek</td>\n",
       "      <td>omgevingsvergunning</td>\n",
       "      <td>NaN</td>\n",
       "    </tr>\n",
       "    <tr>\n",
       "      <th>6</th>\n",
       "      <td>DC.type</td>\n",
       "      <td>OVERHEID.Informatietype</td>\n",
       "      <td>officiële publicatie</td>\n",
       "      <td>NaN</td>\n",
       "    </tr>\n",
       "    <tr>\n",
       "      <th>7</th>\n",
       "      <td>DCTERMS.publisher</td>\n",
       "      <td>OVERHEID.Waterschap</td>\n",
       "      <td>Waterschap Hunze en Aa's</td>\n",
       "      <td>NaN</td>\n",
       "    </tr>\n",
       "    <tr>\n",
       "      <th>8</th>\n",
       "      <td>OVERHEID.authority</td>\n",
       "      <td>OVERHEID.Waterschap</td>\n",
       "      <td>Waterschap Hunze en Aa's</td>\n",
       "      <td>NaN</td>\n",
       "    </tr>\n",
       "    <tr>\n",
       "      <th>9</th>\n",
       "      <td>OVERHEID.category</td>\n",
       "      <td>OVERHEID.TaxonomieBeleidsagendaDecentraal</td>\n",
       "      <td>Ruimte en infrastructuur | Organisatie en beleid</td>\n",
       "      <td>NaN</td>\n",
       "    </tr>\n",
       "    <tr>\n",
       "      <th>10</th>\n",
       "      <td>OVERHEIDop.activiteit</td>\n",
       "      <td>OVERHEIDop.ActiviteitOmgevingsvergunning</td>\n",
       "      <td>ruimtelijke ordening</td>\n",
       "      <td>NaN</td>\n",
       "    </tr>\n",
       "    <tr>\n",
       "      <th>11</th>\n",
       "      <td>DCTERMS.language</td>\n",
       "      <td>DCTERMS.RFC4646</td>\n",
       "      <td>nl</td>\n",
       "      <td>NaN</td>\n",
       "    </tr>\n",
       "    <tr>\n",
       "      <th>12</th>\n",
       "      <td>OVERHEIDop.gebiedsmarkering</td>\n",
       "      <td>OVERHEIDop.locatietype</td>\n",
       "      <td>Adres</td>\n",
       "      <td>NaN</td>\n",
       "    </tr>\n",
       "    <tr>\n",
       "      <th>13</th>\n",
       "      <td>OVERHEIDop.geometrie</td>\n",
       "      <td>NaN</td>\n",
       "      <td>POINT(269803.526 551487.186)</td>\n",
       "      <td>NaN</td>\n",
       "    </tr>\n",
       "    <tr>\n",
       "      <th>14</th>\n",
       "      <td>OVERHEIDop.ligtInGemeente</td>\n",
       "      <td>OVERHEID.Gemeente</td>\n",
       "      <td>Westerwolde</td>\n",
       "      <td>NaN</td>\n",
       "    </tr>\n",
       "    <tr>\n",
       "      <th>15</th>\n",
       "      <td>OVERHEIDop.huisletter</td>\n",
       "      <td>NaN</td>\n",
       "      <td>a</td>\n",
       "      <td>NaN</td>\n",
       "    </tr>\n",
       "    <tr>\n",
       "      <th>16</th>\n",
       "      <td>OVERHEIDop.huisnummer</td>\n",
       "      <td>NaN</td>\n",
       "      <td>58</td>\n",
       "      <td>NaN</td>\n",
       "    </tr>\n",
       "    <tr>\n",
       "      <th>17</th>\n",
       "      <td>OVERHEIDop.huisnummerToevoeging</td>\n",
       "      <td>NaN</td>\n",
       "      <td>1</td>\n",
       "      <td>NaN</td>\n",
       "    </tr>\n",
       "    <tr>\n",
       "      <th>18</th>\n",
       "      <td>OVERHEIDop.postcode</td>\n",
       "      <td>NaN</td>\n",
       "      <td>9551VH</td>\n",
       "      <td>NaN</td>\n",
       "    </tr>\n",
       "    <tr>\n",
       "      <th>19</th>\n",
       "      <td>OVERHEIDop.straatnaam</td>\n",
       "      <td>NaN</td>\n",
       "      <td>Beetserweg</td>\n",
       "      <td>NaN</td>\n",
       "    </tr>\n",
       "    <tr>\n",
       "      <th>20</th>\n",
       "      <td>OVERHEIDop.woonplaats</td>\n",
       "      <td>NaN</td>\n",
       "      <td>Sellingen</td>\n",
       "      <td>NaN</td>\n",
       "    </tr>\n",
       "    <tr>\n",
       "      <th>21</th>\n",
       "      <td>DC.title</td>\n",
       "      <td>NaN</td>\n",
       "      <td>HAS2023_Z43946 Kremer Beheer B.V.</td>\n",
       "      <td>NaN</td>\n",
       "    </tr>\n",
       "    <tr>\n",
       "      <th>22</th>\n",
       "      <td>DCTERMS.available</td>\n",
       "      <td>DCTERMS.W3CDTF</td>\n",
       "      <td>2023-10-11</td>\n",
       "      <td>NaN</td>\n",
       "    </tr>\n",
       "    <tr>\n",
       "      <th>23</th>\n",
       "      <td>OVERHEIDop.jaargang</td>\n",
       "      <td>DCTERMS.W3CDTF</td>\n",
       "      <td>2023</td>\n",
       "      <td>NaN</td>\n",
       "    </tr>\n",
       "    <tr>\n",
       "      <th>24</th>\n",
       "      <td>OVERHEIDop.externeBijlage</td>\n",
       "      <td>NaN</td>\n",
       "      <td>HAS2023_Z43946|exb-2023-47799</td>\n",
       "      <td>NaN</td>\n",
       "    </tr>\n",
       "    <tr>\n",
       "      <th>25</th>\n",
       "      <td>OVERHEIDop.publicationIssue</td>\n",
       "      <td>NaN</td>\n",
       "      <td>12405</td>\n",
       "      <td>NaN</td>\n",
       "    </tr>\n",
       "    <tr>\n",
       "      <th>26</th>\n",
       "      <td>DC.identifier</td>\n",
       "      <td>OVERHEIDop.WsbID</td>\n",
       "      <td>wsb-2023-12405</td>\n",
       "      <td>NaN</td>\n",
       "    </tr>\n",
       "  </tbody>\n",
       "</table>\n",
       "</div>"
      ],
      "text/plain": [
       "                               name   \n",
       "0         OVERHEID.organisationType  \\\n",
       "1        OVERHEIDop.publicationName   \n",
       "2                OVERHEIDop.doctype   \n",
       "3           OVERHEIDop.configuratie   \n",
       "4                        DC.creator   \n",
       "5                           DC.type   \n",
       "6                           DC.type   \n",
       "7                 DCTERMS.publisher   \n",
       "8                OVERHEID.authority   \n",
       "9                 OVERHEID.category   \n",
       "10            OVERHEIDop.activiteit   \n",
       "11                 DCTERMS.language   \n",
       "12      OVERHEIDop.gebiedsmarkering   \n",
       "13             OVERHEIDop.geometrie   \n",
       "14        OVERHEIDop.ligtInGemeente   \n",
       "15            OVERHEIDop.huisletter   \n",
       "16            OVERHEIDop.huisnummer   \n",
       "17  OVERHEIDop.huisnummerToevoeging   \n",
       "18              OVERHEIDop.postcode   \n",
       "19            OVERHEIDop.straatnaam   \n",
       "20            OVERHEIDop.woonplaats   \n",
       "21                         DC.title   \n",
       "22                DCTERMS.available   \n",
       "23              OVERHEIDop.jaargang   \n",
       "24        OVERHEIDop.externeBijlage   \n",
       "25      OVERHEIDop.publicationIssue   \n",
       "26                    DC.identifier   \n",
       "\n",
       "                                       scheme   \n",
       "0                    OVERHEID.Organisatietype  \\\n",
       "1                                         NaN   \n",
       "2                                         NaN   \n",
       "3                                         NaN   \n",
       "4                         OVERHEID.Waterschap   \n",
       "5                          OVERHEIDop.Rubriek   \n",
       "6                     OVERHEID.Informatietype   \n",
       "7                         OVERHEID.Waterschap   \n",
       "8                         OVERHEID.Waterschap   \n",
       "9   OVERHEID.TaxonomieBeleidsagendaDecentraal   \n",
       "10   OVERHEIDop.ActiviteitOmgevingsvergunning   \n",
       "11                            DCTERMS.RFC4646   \n",
       "12                     OVERHEIDop.locatietype   \n",
       "13                                        NaN   \n",
       "14                          OVERHEID.Gemeente   \n",
       "15                                        NaN   \n",
       "16                                        NaN   \n",
       "17                                        NaN   \n",
       "18                                        NaN   \n",
       "19                                        NaN   \n",
       "20                                        NaN   \n",
       "21                                        NaN   \n",
       "22                             DCTERMS.W3CDTF   \n",
       "23                             DCTERMS.W3CDTF   \n",
       "24                                        NaN   \n",
       "25                                        NaN   \n",
       "26                           OVERHEIDop.WsbID   \n",
       "\n",
       "                                              content  metadata  \n",
       "0                                          waterschap       NaN  \n",
       "1                                     Waterschapsblad       NaN  \n",
       "2                   Officiële Publicaties, versie 1.1       NaN  \n",
       "3   https://repository.officiele-overheidspublicat...       NaN  \n",
       "4                            Waterschap Hunze en Aa's       NaN  \n",
       "5                                 omgevingsvergunning       NaN  \n",
       "6                                officiële publicatie       NaN  \n",
       "7                            Waterschap Hunze en Aa's       NaN  \n",
       "8                            Waterschap Hunze en Aa's       NaN  \n",
       "9    Ruimte en infrastructuur | Organisatie en beleid       NaN  \n",
       "10                               ruimtelijke ordening       NaN  \n",
       "11                                                 nl       NaN  \n",
       "12                                              Adres       NaN  \n",
       "13                       POINT(269803.526 551487.186)       NaN  \n",
       "14                                        Westerwolde       NaN  \n",
       "15                                                  a       NaN  \n",
       "16                                                 58       NaN  \n",
       "17                                                  1       NaN  \n",
       "18                                             9551VH       NaN  \n",
       "19                                         Beetserweg       NaN  \n",
       "20                                          Sellingen       NaN  \n",
       "21                  HAS2023_Z43946 Kremer Beheer B.V.       NaN  \n",
       "22                                         2023-10-11       NaN  \n",
       "23                                               2023       NaN  \n",
       "24                      HAS2023_Z43946|exb-2023-47799       NaN  \n",
       "25                                              12405       NaN  \n",
       "26                                     wsb-2023-12405       NaN  "
      ]
     },
     "execution_count": 71,
     "metadata": {},
     "output_type": "execute_result"
    }
   ],
   "source": [
    "df= pd.read_xml('ws0646/wsb-2023-12405.metadata.xml.gz',xpath=\".//metadata\")\n",
    "df"
   ]
  },
  {
   "cell_type": "markdown",
   "id": "ccda61f3",
   "metadata": {},
   "source": [
    "# step 5 trasform into json \n",
    "\n",
    "for crawler, and store in woogle"
   ]
  },
  {
   "cell_type": "code",
   "execution_count": 8,
   "id": "f29e7fd2",
   "metadata": {
    "execution": {
     "iopub.execute_input": "2023-09-27T15:39:53.620075Z",
     "iopub.status.busy": "2023-09-27T15:39:53.619699Z",
     "iopub.status.idle": "2023-09-27T15:39:53.637248Z",
     "shell.execute_reply": "2023-09-27T15:39:53.636636Z"
    }
   },
   "outputs": [],
   "source": [
    "jsonfilename=DC_PUBLISHER+'json.gz'\n",
    "with gzip.open(jsonfilename, 'w') as fout:\n",
    "    fout.write(json.dumps(D).encode('utf-8'))  \n",
    "#!ls -lh $jsonfilename"
   ]
  },
  {
   "cell_type": "code",
   "execution_count": 9,
   "id": "5ce3bbbe",
   "metadata": {
    "execution": {
     "iopub.execute_input": "2023-09-27T15:39:53.639810Z",
     "iopub.status.busy": "2023-09-27T15:39:53.639574Z",
     "iopub.status.idle": "2023-09-27T15:39:53.642246Z",
     "shell.execute_reply": "2023-09-27T15:39:53.641669Z"
    }
   },
   "outputs": [],
   "source": [
    "# if you want to open the file again\n",
    "#with gzip.open(jsonfilename, 'r') as fin:\n",
    "#    data = json.loads(fin.read().decode('utf-8'))\n",
    "#len(data),data[:2]"
   ]
  }
 ],
 "metadata": {
  "kernelspec": {
   "display_name": "Python 3 (ipykernel)",
   "language": "python",
   "name": "python3"
  },
  "language_info": {
   "codemirror_mode": {
    "name": "ipython",
    "version": 3
   },
   "file_extension": ".py",
   "mimetype": "text/x-python",
   "name": "python",
   "nbconvert_exporter": "python",
   "pygments_lexer": "ipython3",
   "version": "3.9.7"
  },
  "toc": {
   "nav_menu": {},
   "number_sections": false,
   "sideBar": true,
   "skip_h1_title": false,
   "title_cell": "Table of Contents",
   "title_sidebar": "Contents",
   "toc_cell": false,
   "toc_position": {},
   "toc_section_display": true,
   "toc_window_display": false
  }
 },
 "nbformat": 4,
 "nbformat_minor": 5
}
