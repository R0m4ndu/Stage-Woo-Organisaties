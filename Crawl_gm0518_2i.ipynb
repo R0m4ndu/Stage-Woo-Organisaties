{
 "cells": [
  {
   "cell_type": "markdown",
   "id": "40ddc120",
   "metadata": {},
   "source": [
    "# crawl all den haag woo dossiers\n",
    "\n",
    "* marx\n",
    "* 2022-12-20, updated 2023-09-26\n",
    "\n",
    "## Sjaboon\n",
    "\n",
    "[Den Haag s Woo dossiers](https://woo.denhaag.nl/wob-besluiten/) zijn een mooi voorbeeld van een publicatie-methode die heel goed netjes te scrape  valt. Het bestaat uit 3 onderdelen:\n",
    "\n",
    "1. Een pagina met een lijst van alle woo-dossiers,  met een link naar een aparte pagina voor elk dossier.\n",
    "    * Het gebruik van \"pagination in de URL\" om naar de volgende pagina in die lijst te gaan.\n",
    "    * **Stap 1 i het extractiescript gebruikt dit.**\n",
    "2. Elk Woo-dossier heeft een eigen vaste pagina met een eigen URL.\n",
    "    * Die worden in **stap 2** verzameld inn een lijst.\n",
    "3. Elke pagina met een Woo-dossier heeft een vaste structuur die via XPad om te zettenn is naar ons schema.\n",
    "    * Meta data op de HTML pagina met een vast schema (dc, og  of iets vergelijkbaars) maakt het verzamelen van metadata op dossier  niveau vaak eenvoudiger en robuuster.\n",
    "    * De extractioe per dossier gebeurt in **stap 3**.\n",
    "4. Tenslotte doenn we de extractie over alle urls van xde woo-dossiers, en slaan dat allemaal op in eeen json datafile. **stap 4 en 5**."
   ]
  },
  {
   "cell_type": "code",
   "execution_count": 1,
   "id": "d8359412",
   "metadata": {},
   "outputs": [],
   "source": [
    "\n",
    "import re\n",
    "from bs4 import BeautifulSoup\n",
    "from lxml import etree\n",
    "import pandas as pd\n",
    "import json\n",
    "import requests\n",
    "import gzip"
   ]
  },
  {
   "cell_type": "markdown",
   "id": "2b82155e",
   "metadata": {},
   "source": [
    "# globals"
   ]
  },
  {
   "cell_type": "code",
   "execution_count": 2,
   "id": "0eadd164",
   "metadata": {},
   "outputs": [],
   "source": [
    "DC_TYPE = '2i'\n",
    "DC_PUBLISHER='gm0518'\n",
    "DC_CREATOR='Gemeente Den Haag'"
   ]
  },
  {
   "cell_type": "markdown",
   "id": "7f126b5b",
   "metadata": {},
   "source": [
    "# Extractie functies"
   ]
  },
  {
   "cell_type": "code",
   "execution_count": 3,
   "id": "9c99270a",
   "metadata": {},
   "outputs": [],
   "source": [
    "def crawl_all_pages(url,page_range=range(100)):\n",
    "    '''Crawl all pages from a paginated list page with URL and pagerange.\n",
    "    Simply concatenate all of them and return that as a strng. \n",
    "    From that string we will extract all pages we want'''\n",
    "    pages=''\n",
    "    for p in page_range:\n",
    "        u= url+str(p)\n",
    "        print (u)\n",
    "        ef = !curl -s $u\n",
    "        pages=pages+'\\n'+ ''.join(ef)\n",
    "    return pages\n",
    "\n",
    "\n",
    "\n",
    "\n",
    "def xpadje(element,path_expression):\n",
    "    if element.xpath(path_expression):\n",
    "        return element.xpath(path_expression)[0]\n",
    "    else:\n",
    "        \n",
    "        return ''\n",
    "    \n",
    "def pak_meta(element,property_value='dc:title'):\n",
    "    '''Geef de waarde van het @content attribuut in het meta element met @property waarde property_value.\n",
    "    Als het niet bestaat geef lege string'''\n",
    "    xpad= './/meta[@property=\"WAARDE\"]/@content'.replace('WAARDE',property_value)\n",
    "    return xpadje(element, xpad)\n",
    "    \n",
    "  \n",
    "    \n",
    "def extract_links(woodata,dc_source_xpad='@href', dc_title_xpad='.//text()'):\n",
    "    '''Extract the list of document dicts from woodata which is a list of a elements from the HTML page.\n",
    "    One usually only has to finetune the dc_title_xpad'''\n",
    "    L=[]\n",
    "    for e in woodata:\n",
    "        D=dict()\n",
    "        \n",
    "        D[\"dc_source\"]= xpadje(e,dc_source_xpad)\n",
    "        D[\"dc_title\"]= ''.join(e.xpath(dc_title_xpad)).strip() \n",
    "        if 'besluit'.lower() in D[\"dc_title\"].lower() :\n",
    "            D[\"dc_type\"]='besluit' \n",
    "        elif 'verzoek'.lower() in D[\"dc_title\"].lower() :\n",
    "            D[\"dc_type\"]='verzoek' \n",
    "        elif 'inventaris'.lower() in D[\"dc_title\"].lower() :\n",
    "            D[\"dc_type\"]='inventarislijst' \n",
    "        else:\n",
    "            D[\"dc_type\"]='bijlage' \n",
    "        D[\"foi_url_on_web\"]= True #'true'\n",
    "        L.append(D) \n",
    "    return  L"
   ]
  },
  {
   "cell_type": "markdown",
   "id": "64069e06",
   "metadata": {},
   "source": [
    "# step 1 crawl all pages with links to woo dossiers"
   ]
  },
  {
   "cell_type": "code",
   "execution_count": 4,
   "id": "08d3a892",
   "metadata": {},
   "outputs": [
    {
     "name": "stdout",
     "output_type": "stream",
     "text": [
      "https://woo.denhaag.nl/wob-besluiten/?_paged=1\n",
      "https://woo.denhaag.nl/wob-besluiten/?_paged=2\n",
      "https://woo.denhaag.nl/wob-besluiten/?_paged=3\n",
      "https://woo.denhaag.nl/wob-besluiten/?_paged=4\n",
      "https://woo.denhaag.nl/wob-besluiten/?_paged=5\n",
      "https://woo.denhaag.nl/wob-besluiten/?_paged=6\n",
      "https://woo.denhaag.nl/wob-besluiten/?_paged=7\n",
      "https://woo.denhaag.nl/wob-besluiten/?_paged=8\n",
      "https://woo.denhaag.nl/wob-besluiten/?_paged=9\n",
      "https://woo.denhaag.nl/wob-besluiten/?_paged=10\n",
      "https://woo.denhaag.nl/wob-besluiten/?_paged=11\n",
      "https://woo.denhaag.nl/wob-besluiten/?_paged=12\n",
      "https://woo.denhaag.nl/wob-besluiten/?_paged=13\n",
      "https://woo.denhaag.nl/wob-besluiten/?_paged=14\n",
      "https://woo.denhaag.nl/wob-besluiten/?_paged=15\n",
      "https://woo.denhaag.nl/wob-besluiten/?_paged=16\n",
      "https://woo.denhaag.nl/wob-besluiten/?_paged=17\n",
      "https://woo.denhaag.nl/wob-besluiten/?_paged=18\n",
      "https://woo.denhaag.nl/wob-besluiten/?_paged=19\n",
      "https://woo.denhaag.nl/wob-besluiten/?_paged=20\n",
      "https://woo.denhaag.nl/wob-besluiten/?_paged=21\n",
      "https://woo.denhaag.nl/wob-besluiten/?_paged=22\n",
      "https://woo.denhaag.nl/wob-besluiten/?_paged=23\n",
      "https://woo.denhaag.nl/wob-besluiten/?_paged=24\n",
      "https://woo.denhaag.nl/wob-besluiten/?_paged=25\n",
      "https://woo.denhaag.nl/wob-besluiten/?_paged=26\n",
      "https://woo.denhaag.nl/wob-besluiten/?_paged=27\n",
      "https://woo.denhaag.nl/wob-besluiten/?_paged=28\n",
      "https://woo.denhaag.nl/wob-besluiten/?_paged=29\n",
      "https://woo.denhaag.nl/wob-besluiten/?_paged=30\n",
      "https://woo.denhaag.nl/wob-besluiten/?_paged=31\n",
      "https://woo.denhaag.nl/wob-besluiten/?_paged=32\n",
      "https://woo.denhaag.nl/wob-besluiten/?_paged=33\n",
      "https://woo.denhaag.nl/wob-besluiten/?_paged=34\n",
      "https://woo.denhaag.nl/wob-besluiten/?_paged=35\n",
      "https://woo.denhaag.nl/wob-besluiten/?_paged=36\n",
      "https://woo.denhaag.nl/wob-besluiten/?_paged=37\n",
      "https://woo.denhaag.nl/wob-besluiten/?_paged=38\n",
      "https://woo.denhaag.nl/wob-besluiten/?_paged=39\n",
      "https://woo.denhaag.nl/wob-besluiten/?_paged=40\n",
      "https://woo.denhaag.nl/wob-besluiten/?_paged=41\n",
      "https://woo.denhaag.nl/wob-besluiten/?_paged=42\n",
      "https://woo.denhaag.nl/wob-besluiten/?_paged=43\n",
      "https://woo.denhaag.nl/wob-besluiten/?_paged=44\n",
      "https://woo.denhaag.nl/wob-besluiten/?_paged=45\n",
      "https://woo.denhaag.nl/wob-besluiten/?_paged=46\n",
      "https://woo.denhaag.nl/wob-besluiten/?_paged=47\n",
      "https://woo.denhaag.nl/wob-besluiten/?_paged=48\n",
      "https://woo.denhaag.nl/wob-besluiten/?_paged=49\n",
      "https://woo.denhaag.nl/wob-besluiten/?_paged=50\n",
      "https://woo.denhaag.nl/wob-besluiten/?_paged=51\n",
      "https://woo.denhaag.nl/wob-besluiten/?_paged=52\n",
      "https://woo.denhaag.nl/wob-besluiten/?_paged=53\n",
      "https://woo.denhaag.nl/wob-besluiten/?_paged=54\n",
      "https://woo.denhaag.nl/wob-besluiten/?_paged=55\n",
      "https://woo.denhaag.nl/wob-besluiten/?_paged=56\n",
      "https://woo.denhaag.nl/wob-besluiten/?_paged=57\n",
      "https://woo.denhaag.nl/wob-besluiten/?_paged=58\n",
      "https://woo.denhaag.nl/wob-besluiten/?_paged=59\n",
      "https://woo.denhaag.nl/wob-besluiten/?_paged=60\n",
      "https://woo.denhaag.nl/wob-besluiten/?_paged=61\n",
      "https://woo.denhaag.nl/wob-besluiten/?_paged=62\n",
      "https://woo.denhaag.nl/wob-besluiten/?_paged=63\n",
      "https://woo.denhaag.nl/wob-besluiten/?_paged=64\n",
      "https://woo.denhaag.nl/wob-besluiten/?_paged=65\n",
      "https://woo.denhaag.nl/wob-besluiten/?_paged=66\n",
      "https://woo.denhaag.nl/wob-besluiten/?_paged=67\n",
      "https://woo.denhaag.nl/wob-besluiten/?_paged=68\n",
      "https://woo.denhaag.nl/wob-besluiten/?_paged=69\n",
      "https://woo.denhaag.nl/wob-besluiten/?_paged=70\n",
      "https://woo.denhaag.nl/wob-besluiten/?_paged=71\n",
      "https://woo.denhaag.nl/wob-besluiten/?_paged=72\n",
      "https://woo.denhaag.nl/wob-besluiten/?_paged=73\n",
      "https://woo.denhaag.nl/wob-besluiten/?_paged=74\n",
      "https://woo.denhaag.nl/wob-besluiten/?_paged=75\n",
      "https://woo.denhaag.nl/wob-besluiten/?_paged=76\n",
      "https://woo.denhaag.nl/wob-besluiten/?_paged=77\n",
      "https://woo.denhaag.nl/wob-besluiten/?_paged=78\n",
      "https://woo.denhaag.nl/wob-besluiten/?_paged=79\n"
     ]
    }
   ],
   "source": [
    "URL='https://woo.denhaag.nl/wob-besluiten/?_paged='\n",
    "page_range=range(1,80) ## todo dit moet nog uitgeprogrameeerd worden\n",
    "pages = crawl_all_pages(URL,page_range )"
   ]
  },
  {
   "cell_type": "markdown",
   "id": "4fe1f8cb",
   "metadata": {},
   "source": [
    "# step 2 extract links to woo dosiers\n",
    "\n",
    "* fine tune "
   ]
  },
  {
   "cell_type": "code",
   "execution_count": 5,
   "id": "558795f7",
   "metadata": {},
   "outputs": [
    {
     "data": {
      "text/plain": [
       "(531,\n",
       " 531,\n",
       " ['https://woo.denhaag.nl/wob-verzoek/2023-230426-woo-inzake-apelloods-op-het-adres-laan-van-poot-97/',\n",
       "  'https://woo.denhaag.nl/wob-verzoek/2023-224378-woo-project-nieuw-waldeck-knapt-op/',\n",
       "  'https://woo.denhaag.nl/wob-verzoek/2023-235904-woo-overzicht-ingediende-lopende-woo-verzoeken-en-uitgekeerde-dwangsommen/',\n",
       "  'https://woo.denhaag.nl/wob-verzoek/2023-229668-woo-inzake-appelloods-op-het-adres-laan-van-poot-97/',\n",
       "  'https://woo.denhaag.nl/wob-verzoek/2023-219282-woo-inzake-apeldoornselaan-266/'])"
      ]
     },
     "execution_count": 5,
     "metadata": {},
     "output_type": "execute_result"
    }
   ],
   "source": [
    "woos=re.findall(r'href=\"(.*?)\"',pages)\n",
    "woos= [u for u in woos if u.startswith('https://woo.denhaag.nl/wob-verzoek')  ]\n",
    "len(woos), len(set(woos)), woos[:5]"
   ]
  },
  {
   "cell_type": "markdown",
   "id": "9ec71d51",
   "metadata": {},
   "source": [
    "# step 3 extract info for each woo dossier"
   ]
  },
  {
   "cell_type": "markdown",
   "id": "e661b6cd",
   "metadata": {},
   "source": [
    "## kan ook uit metada\n",
    "\n",
    "```\n",
    " <!-- This site is optimized with the Yoast SEO plugin v20.6 - https://yoast.com/wordpress/plugins/seo/ -->\n",
    "\t<title>165143-WOO-inzake de communicatie tussen burgemeester Van Zanen en Shell - WOO-verzoeken Den Haag</title>\n",
    "\t<meta property=\"og:locale\" content=\"nl_NL\" />\n",
    "\t<meta property=\"og:type\" content=\"article\" />\n",
    "\t<meta property=\"og:title\" content=\"165143-WOO-inzake de communicatie tussen burgemeester Van Zanen en Shell - WOO-verzoeken Den Haag\" />\n",
    "\t<meta property=\"og:url\" content=\"https://woo.denhaag.nl/wob-verzoek/165143-woo-inzake-de-communicatie-tussen-burgemeester-van-zanen-en-shell/\" />\n",
    "\t<meta property=\"og:site_name\" content=\"WOO-verzoeken Den Haag\" />\n",
    "\t<meta property=\"article:modified_time\" content=\"2022-12-12T13:11:56+00:00\" />\n",
    "\t<meta property=\"og:image\" content=\"https://woo.denhaag.nl/wp-content//uploads/2021/06/Share-image-scaled.jpg\" />\n",
    "\t<meta property=\"og:image:width\" content=\"1920\" />\n",
    "\t<meta property=\"og:image:height\" content=\"1008\" />\n",
    "\t<meta property=\"og:image:type\" content=\"image/jpeg\" />\n",
    "\t<meta name=\"twitter:card\" content=\"summary_large_image\" />\n",
    "\t \n",
    "\n",
    "\n",
    "```\n",
    " "
   ]
  },
  {
   "cell_type": "code",
   "execution_count": 6,
   "id": "fac3df5e",
   "metadata": {},
   "outputs": [],
   "source": [
    "## Dit kan ook heel makkelijk uit de metadata \n",
    "\n",
    "def parse_one_woo(url):\n",
    "    #print(url)\n",
    "    # get the page of url as an etree object dom \n",
    "    ef= !curl $url\n",
    "    soup=' '.join(ef)\n",
    "    #print(soup.prettify())\n",
    "    #with open(p) as fp:\n",
    "    #    soup = BeautifulSoup(fp)\n",
    "    dom = etree.HTML(str(soup))\n",
    "    # now extract in ww\n",
    "    woo=dict()\n",
    "    woo['dc_source']=pak_meta(dom,'og:url')\n",
    "    woo['dc_title']=pak_meta(dom,'og:title')\n",
    "    mydate= ''.join(dom.xpath('//p[@class=\"date\"]//text()')).strip() #re.sub(r'T.*','',pak_meta(dom,'article:modified_time'))\n",
    "    woo['foi_publishedDate']='-'.join(mydate.split('-')[::-1])\n",
    "    #woo['dc_description']= pak_meta(dom,'og:description')\n",
    "    \n",
    "    woo['dc_creator']=DC_CREATOR\n",
    "    woo[\"dc_type\"]= DC_TYPE\n",
    "    woo[\"dc_publisher\"]=  DC_PUBLISHER\n",
    "    woodata= dom.xpath('//li[@class=\"link\"]//a')\n",
    "    \n",
    "    if woodata:\n",
    "        woo['foi_files']={\"foi_documenten\": \n",
    "                          extract_links(woodata,dc_title_xpad='./span[@class=\"button-title\"]/text()')\n",
    "                         }\n",
    "         \n",
    "    return woo\n",
    "\n",
    "# test\n",
    "#parse_one_woo('https://woo.denhaag.nl/wob-verzoek/165143-woo-inzake-de-communicatie-tussen-burgemeester-van-zanen-en-shell/')\n"
   ]
  },
  {
   "cell_type": "markdown",
   "id": "199a0e11",
   "metadata": {},
   "source": [
    "# stap 4\n",
    "\n",
    "* Extraheer u de data voor elk woodossier i n `woos`."
   ]
  },
  {
   "cell_type": "code",
   "execution_count": 7,
   "id": "898f4c70",
   "metadata": {},
   "outputs": [
    {
     "name": "stdout",
     "output_type": "stream",
     "text": [
      "CPU times: user 2.31 s, sys: 3.73 s, total: 6.04 s\n",
      "Wall time: 30min 37s\n"
     ]
    },
    {
     "data": {
      "text/plain": [
       "531"
      ]
     },
     "execution_count": 7,
     "metadata": {},
     "output_type": "execute_result"
    }
   ],
   "source": [
    "%%time\n",
    "D=list()\n",
    "for url in woos:\n",
    "    try:\n",
    "        o= parse_one_woo(url)\n",
    "        D.append(o)\n",
    "    except:\n",
    "        print('WRONG',url)\n",
    "\n",
    "len(D)"
   ]
  },
  {
   "cell_type": "markdown",
   "id": "ece21847",
   "metadata": {},
   "source": [
    "# step 5 store as json"
   ]
  },
  {
   "cell_type": "code",
   "execution_count": 8,
   "id": "f0ddf78e",
   "metadata": {},
   "outputs": [
    {
     "name": "stdout",
     "output_type": "stream",
     "text": [
      "-rw-r--r--  1 admin  staff    56K Sep 27 16:50 gm0518json.gz\r\n"
     ]
    }
   ],
   "source": [
    "jsonfilename=DC_PUBLISHER+'json.gz'\n",
    "with gzip.open(jsonfilename, 'w') as fout:\n",
    "    fout.write(json.dumps(D).encode('utf-8'))  \n",
    "!ls -lh $jsonfilename"
   ]
  },
  {
   "cell_type": "code",
   "execution_count": 9,
   "id": "42c38180",
   "metadata": {},
   "outputs": [
    {
     "data": {
      "text/plain": [
       "(531,\n",
       " [{'dc_source': 'https://woo.denhaag.nl/wob-verzoek/2023-230426-woo-inzake-apelloods-op-het-adres-laan-van-poot-97/',\n",
       "   'dc_title': '2023-230426-WOO-inzake Apelloods op het adres Laan van Poot 97 - WOO-verzoeken Den Haag',\n",
       "   'foi_publishedDate': '2023-09-13',\n",
       "   'dc_creator': 'Gemeente Den Haag',\n",
       "   'dc_type': '2i',\n",
       "   'dc_publisher': 'gm0518',\n",
       "   'foi_files': {'foi_documenten': [{'dc_source': 'https://woo.denhaag.nl/wob-verzoek/2023-230426-woo-inzake-apelloods-op-het-adres-laan-van-poot-97/2023-230426-woo-verzoek/',\n",
       "      'dc_title': '2023-230426 Woo-verzoek',\n",
       "      'dc_type': 'verzoek',\n",
       "      'foi_url_on_web': True},\n",
       "     {'dc_source': 'https://woo.denhaag.nl/wob-verzoek/2023-230426-woo-inzake-apelloods-op-het-adres-laan-van-poot-97/2023-230426-woo-besluit/',\n",
       "      'dc_title': '2023-230426 Woo-besluit',\n",
       "      'dc_type': 'besluit',\n",
       "      'foi_url_on_web': True},\n",
       "     {'dc_source': 'https://woo.denhaag.nl/wob-verzoek/2023-230426-woo-inzake-apelloods-op-het-adres-laan-van-poot-97/2023-230426-bijlage-1-van-2/',\n",
       "      'dc_title': '2023-230426 Bijlage 1 van 2',\n",
       "      'dc_type': 'bijlage',\n",
       "      'foi_url_on_web': True},\n",
       "     {'dc_source': 'https://woo.denhaag.nl/wob-verzoek/2023-230426-woo-inzake-apelloods-op-het-adres-laan-van-poot-97/2023-230426-bijlage-2-van-2/',\n",
       "      'dc_title': '2023-230426 Bijlage 2 van 2',\n",
       "      'dc_type': 'bijlage',\n",
       "      'foi_url_on_web': True}]}},\n",
       "  {'dc_source': 'https://woo.denhaag.nl/wob-verzoek/2023-224378-woo-project-nieuw-waldeck-knapt-op/',\n",
       "   'dc_title': '2023-224378 WOO-Project Nieuw Waldeck knapt op - WOO-verzoeken Den Haag',\n",
       "   'foi_publishedDate': '2023-08-24',\n",
       "   'dc_creator': 'Gemeente Den Haag',\n",
       "   'dc_type': '2i',\n",
       "   'dc_publisher': 'gm0518',\n",
       "   'foi_files': {'foi_documenten': [{'dc_source': 'https://woo.denhaag.nl/wob-verzoek/2023-224378-woo-project-nieuw-waldeck-knapt-op/2023-224378-woo-verzoek-3/',\n",
       "      'dc_title': '2023-224378 Woo-verzoek',\n",
       "      'dc_type': 'verzoek',\n",
       "      'foi_url_on_web': True},\n",
       "     {'dc_source': 'https://woo.denhaag.nl/wob-verzoek/2023-224378-woo-project-nieuw-waldeck-knapt-op/2023-224378-woo-besluit-3/',\n",
       "      'dc_title': '2023-224378 Woo-besluit',\n",
       "      'dc_type': 'besluit',\n",
       "      'foi_url_on_web': True},\n",
       "     {'dc_source': 'https://woo.denhaag.nl/wob-verzoek/2023-224378-woo-project-nieuw-waldeck-knapt-op/2023-224378-bijlage-1-van-1/',\n",
       "      'dc_title': '2023-224378 Bijlage 1 van 1',\n",
       "      'dc_type': 'bijlage',\n",
       "      'foi_url_on_web': True}]}}])"
      ]
     },
     "execution_count": 9,
     "metadata": {},
     "output_type": "execute_result"
    }
   ],
   "source": [
    "# if you want to open the file again\n",
    "with gzip.open(jsonfilename, 'r') as fin:\n",
    "    data = json.loads(fin.read().decode('utf-8'))\n",
    "len(data),data[:2]"
   ]
  },
  {
   "cell_type": "code",
   "execution_count": null,
   "id": "35444ccc",
   "metadata": {},
   "outputs": [],
   "source": []
  }
 ],
 "metadata": {
  "kernelspec": {
   "display_name": "Python 3 (ipykernel)",
   "language": "python",
   "name": "python3"
  },
  "language_info": {
   "codemirror_mode": {
    "name": "ipython",
    "version": 3
   },
   "file_extension": ".py",
   "mimetype": "text/x-python",
   "name": "python",
   "nbconvert_exporter": "python",
   "pygments_lexer": "ipython3",
   "version": "3.9.7"
  },
  "toc": {
   "nav_menu": {},
   "number_sections": false,
   "sideBar": true,
   "skip_h1_title": false,
   "title_cell": "Table of Contents",
   "title_sidebar": "Contents",
   "toc_cell": false,
   "toc_position": {},
   "toc_section_display": true,
   "toc_window_display": false
  }
 },
 "nbformat": 4,
 "nbformat_minor": 5
}
