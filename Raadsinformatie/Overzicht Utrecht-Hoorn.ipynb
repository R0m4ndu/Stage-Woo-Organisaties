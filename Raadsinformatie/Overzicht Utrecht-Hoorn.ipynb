{
 "cells": [
  {
   "cell_type": "code",
   "execution_count": 2,
   "id": "05ef7005-5ce7-42ef-b238-0e822a040772",
   "metadata": {},
   "outputs": [],
   "source": [
    "import csv\n",
    "import pandas as pd"
   ]
  },
  {
   "cell_type": "code",
   "execution_count": 3,
   "id": "d1bab7be-168e-44fe-9139-32f49c087b53",
   "metadata": {},
   "outputs": [],
   "source": [
    "df_hoorn = pd.read_json('data.json')\n",
    "df_utrecht = pd.read_json('Utrecht_Ibabs.json')"
   ]
  },
  {
   "cell_type": "code",
   "execution_count": 13,
   "id": "36fcb2c6-bf64-41f0-bdb3-e4cbfda6a07c",
   "metadata": {},
   "outputs": [
    {
     "name": "stdout",
     "output_type": "stream",
     "text": [
      "(2490, 35)\n",
      "(16315, 28)\n"
     ]
    }
   ],
   "source": [
    "print(df_hoorn.shape)\n",
    "print(df_utrecht.shape)"
   ]
  },
  {
   "cell_type": "code",
   "execution_count": 23,
   "id": "02a2f27e-9502-4254-9894-704c5cd141b3",
   "metadata": {},
   "outputs": [
    {
     "name": "stdout",
     "output_type": "stream",
     "text": [
      "Index(['id', 'dc_title', 'dc_source', 'dc_type', 'foi_classificaties',\n",
      "       'dc_publisher', 'foi_publishedDate', 'dc_date_year', 'foi_files',\n",
      "       'dc_description', 'foi_files_length', 'ibabs_Gerelateerde items',\n",
      "       'ibabs_Toelichting', 'ibabs_Partijen', 'ibabs_Portefeuillehouder',\n",
      "       'ibabs_Status', 'ibabs_Afgedaan', 'ibabs_Agendapunt', 'ibabs_Domein',\n",
      "       'ibabs_Stemmen', 'ibabs_Stand van zaken', 'ibabs_Datum afgedaan',\n",
      "       'ibabs_Medewerker', 'ibabs_Deadline', 'ibabs_Afzender',\n",
      "       'ibabs_Omschrijving', 'ibabs_Onderwerp',\n",
      "       'ibabs_Datum uiterlijke beantwoording', 'ibabs_Steller',\n",
      "       'ibabs_Datum B&W', 'ibabs_Datum beantwoording', 'ibabs_Opmerking',\n",
      "       'ibabs_Datum tussenbericht', 'ibabs_Datum ingekomen',\n",
      "       'ibabs_Toezegging'],\n",
      "      dtype='object')\n",
      "Index(['id', 'dc_title', 'dc_source', 'dc_type', 'foi_classificaties',\n",
      "       'foi_publishedDate', 'dc_date_year', 'foi_files', 'dc_description',\n",
      "       'foi_files_length', 'ibabs_Kenmerk', 'ibabs_Indiener(s)',\n",
      "       'ibabs_Mede-indieners', 'ibabs_Onderwerp', 'ibabs_Beleidsveld',\n",
      "       'ibabs_Portefeuillehouder', 'ibabs_Deadline',\n",
      "       'ibabs_Datum beantwoording', 'ibabs_Afgedaan', 'ibabs_Relatie met',\n",
      "       'ibabs_Thema', 'ibabs_Datum invoer', 'ibabs_Gerelateerde items',\n",
      "       'ibabs_Opmerking', 'ibabs_Datum wijziging', 'ibabs_Omschrijving',\n",
      "       'ibabs_Opmerkingen', 'ibabs_Inhoud'],\n",
      "      dtype='object')\n"
     ]
    }
   ],
   "source": [
    "print(df_hoorn.columns)\n",
    "print(df_utrecht.columns)"
   ]
  },
  {
   "cell_type": "code",
   "execution_count": 22,
   "id": "8e8bb3a4-1a11-4482-b108-c72eead1906a",
   "metadata": {},
   "outputs": [
    {
     "name": "stdout",
     "output_type": "stream",
     "text": [
      "24\n",
      "18\n"
     ]
    }
   ],
   "source": [
    "print(len([i for i in df_hoorn.columns if i[:5] == 'ibabs']))\n",
    "print(len([i for i in df_utrecht.columns if i[:5] == 'ibabs']))"
   ]
  },
  {
   "cell_type": "markdown",
   "id": "356a5013-dead-442f-8633-9acc594975af",
   "metadata": {},
   "source": [
    "In totaal heeft de gemeente Hoorn 2490 rapporten en de gemeente Utrecht 16315. Na het scrapen van de ibabs pagina van al deze rapporten blijkt dat de gemeente Hoorn 24 verschillende ibabs attributen hebben en bij Utrecht zijn dit er slechts 18 terwijl ze veel meer rapporten hebben. \n",
    "\n",
    "p.s. dat Hoorn in deze data ook meer gewonen attributen heeft komt omdat ik daar de TOOI codes al had toegevoegd dus is verder niet van belang"
   ]
  },
  {
   "cell_type": "code",
   "execution_count": 20,
   "id": "cd8ca573-c590-4fb9-aa67-d2fc0be07ccd",
   "metadata": {},
   "outputs": [
    {
     "name": "stdout",
     "output_type": "stream",
     "text": [
      "ibabs_Gerelateerde items\n",
      "ibabs_Portefeuillehouder\n",
      "ibabs_Afgedaan\n",
      "ibabs_Deadline\n",
      "ibabs_Omschrijving\n",
      "ibabs_Onderwerp\n",
      "ibabs_Datum beantwoording\n",
      "ibabs_Opmerking\n"
     ]
    }
   ],
   "source": [
    "for i in df_hoorn.columns:\n",
    "    if i[:5] == 'ibabs' and i in df_utrecht.columns:\n",
    "        print(i)\n",
    "\n",
    "    else:\n",
    "        if i[:5] != 'ibabs':\n",
    "            print(i)"
   ]
  },
  {
   "cell_type": "markdown",
   "id": "d2387c84-eb51-47b5-9640-e9b2e983792b",
   "metadata": {},
   "source": [
    "Dit zijn alle Ibabs attributen die overeenkomen tussen de beiden gemeenten. Dit lijken ook allemaal wel standaard termen te zijn die verwacht mogen worden bij de bestuurlijke informatie."
   ]
  },
  {
   "cell_type": "code",
   "execution_count": 34,
   "id": "77a9a609-c3a1-4227-b915-cac51121a7a2",
   "metadata": {},
   "outputs": [
    {
     "data": {
      "text/plain": [
       "ibabs_Gerelateerde items                  90\n",
       "ibabs_Toelichting                        576\n",
       "ibabs_Partijen                          1431\n",
       "ibabs_Portefeuillehouder                1357\n",
       "ibabs_Status                             631\n",
       "ibabs_Afgedaan                          1349\n",
       "ibabs_Agendapunt                         977\n",
       "ibabs_Domein                             226\n",
       "ibabs_Stemmen                            363\n",
       "ibabs_Stand van zaken                    443\n",
       "ibabs_Datum afgedaan                     276\n",
       "ibabs_Medewerker                         366\n",
       "ibabs_Deadline                            82\n",
       "ibabs_Afzender                           324\n",
       "ibabs_Omschrijving                         1\n",
       "ibabs_Onderwerp                            9\n",
       "ibabs_Datum uiterlijke beantwoording     521\n",
       "ibabs_Steller                            506\n",
       "ibabs_Datum B&W                          162\n",
       "ibabs_Datum beantwoording                605\n",
       "ibabs_Opmerking                           17\n",
       "ibabs_Datum tussenbericht                 80\n",
       "ibabs_Datum ingekomen                    348\n",
       "ibabs_Toezegging                         362\n",
       "dtype: int64"
      ]
     },
     "execution_count": 34,
     "metadata": {},
     "output_type": "execute_result"
    }
   ],
   "source": [
    "df_hoorn.iloc[:, 11:].notna().sum()"
   ]
  },
  {
   "cell_type": "markdown",
   "id": "05dd70a6-8851-4fad-93f1-b643416e01a9",
   "metadata": {},
   "source": [
    "Dit is hoe vaak bepaalde ibabs items voorkomen bij de gemeente Hoorn. Aangezien Hoorn in totaal bijna 2500 rapporten heeft blijkt al gelijk dat het grootste deel van de attributen niet veelvuldig voorkomen. Het attribuut omschrijving komt bijvoorbeeld slechts 1 keer voor."
   ]
  },
  {
   "cell_type": "code",
   "execution_count": 51,
   "id": "3dcdc263-047c-45d3-91f4-8050b47ed0cc",
   "metadata": {},
   "outputs": [
    {
     "name": "stdout",
     "output_type": "stream",
     "text": [
      "https://hoorn.bestuurlijkeinformatie.nl/Reports/Item/865ac4dc-dc6e-4b4e-9d0f-278309d3193b\n"
     ]
    }
   ],
   "source": [
    "x = df_hoorn[df_hoorn['ibabs_Omschrijving'].notna()]\n",
    "print(x['dc_source'].iloc[0])"
   ]
  },
  {
   "cell_type": "markdown",
   "id": "b69b3380-fa5b-428d-aadc-9268c9526a3d",
   "metadata": {},
   "source": [
    "Dat is dus dit ene item waarbij het op een ander woord voor de titel lijkt.\n",
    "\n",
    "Ik moet ook nog vermelden dat ik de bijlagen weg heb gelaten omdat deze al in de API staan, maar eigenlijk was er ook nog een bijlage(n) / bijlage(s) attribuut. Alleen waren er dus twee verschillende spellingen. "
   ]
  },
  {
   "cell_type": "code",
   "execution_count": 36,
   "id": "bcec99c9-f6fe-4554-8946-835506df739e",
   "metadata": {},
   "outputs": [
    {
     "data": {
      "text/plain": [
       "ibabs_Kenmerk                 3929\n",
       "ibabs_Indiener(s)             3951\n",
       "ibabs_Mede-indieners            91\n",
       "ibabs_Onderwerp                 78\n",
       "ibabs_Beleidsveld             7311\n",
       "ibabs_Portefeuillehouder     10513\n",
       "ibabs_Deadline                  66\n",
       "ibabs_Datum beantwoording     1527\n",
       "ibabs_Afgedaan                 126\n",
       "ibabs_Relatie met               77\n",
       "ibabs_Thema                   3672\n",
       "ibabs_Datum invoer               3\n",
       "ibabs_Gerelateerde items       109\n",
       "ibabs_Opmerking                357\n",
       "ibabs_Datum wijziging          729\n",
       "ibabs_Omschrijving             234\n",
       "ibabs_Opmerkingen                9\n",
       "ibabs_Inhoud                   212\n",
       "dtype: int64"
      ]
     },
     "execution_count": 36,
     "metadata": {},
     "output_type": "execute_result"
    }
   ],
   "source": [
    "df_utrecht.iloc[:, 10:].notna().sum()"
   ]
  },
  {
   "cell_type": "markdown",
   "id": "064e2634-09b9-4de3-ae6f-287566b1e93d",
   "metadata": {},
   "source": [
    "In Utrecht is het gemiddeld aantal attributen per rapport nog veel lager. Want hier zijn meer dan 16000 rapporten en eigenlijk alleen portefeuillehouder en beleidsveld komen hier redelijk vaak voor. De overige attributen komen maar in een klein deel van de gevallen voor. Een groot deel van de attributen komt hier ook maar minder dan 100 keer voor. Wat dus bij minder dan 1 procent van alle rapporten is."
   ]
  },
  {
   "cell_type": "code",
   "execution_count": 75,
   "id": "9f784d60-8110-4bf4-baa8-d23661654996",
   "metadata": {},
   "outputs": [
    {
     "name": "stdout",
     "output_type": "stream",
     "text": [
      "2.0223107569721117\n"
     ]
    },
    {
     "data": {
      "text/plain": [
       "2     5047\n",
       "0     4823\n",
       "1     2167\n",
       "6     1621\n",
       "4     1145\n",
       "3      944\n",
       "5      304\n",
       "7      114\n",
       "8       96\n",
       "9       35\n",
       "10      15\n",
       "11       4\n",
       "Name: count, dtype: int64"
      ]
     },
     "execution_count": 75,
     "metadata": {},
     "output_type": "execute_result"
    }
   ],
   "source": [
    "df_temp = df_utrecht.iloc[:, 10:]\n",
    "\n",
    "print(df_temp.notna().sum(axis=1).mean())\n",
    "\n",
    "df_temp.notna().sum(axis=1).value_counts()\n"
   ]
  },
  {
   "cell_type": "markdown",
   "id": "927ede81-896a-4512-bc9c-29f5fd1dc5f1",
   "metadata": {},
   "source": [
    "Hier is het aantal keer dat een rapport een bepaald aantal ibabs attributen heeft bij de gemeente Utrecht. Een rapport bij de gemeente Utrecht heeft gemiddeld maar 2 ibabs attributen. Verreweg de meeste rapporten hebben dan ook 2 of minder attributen. Waarschijnlijk dus vaak portefeuillehouder en beleidsveld en verder niks. Daarna komt 1 attribuut. Toch heeft ook 6 attributen een verrassend hoog aantal. Dit kan wellicht komen door de foi_classificaties en dat een bepaald type altijd 6 attributen aanhoudt. De rapporten met de meeste ibabs attributen hebben er hier 11, maar dat zijn er slechts 4. "
   ]
  },
  {
   "cell_type": "code",
   "execution_count": 74,
   "id": "7216eabc-851b-4b74-97d9-80fa34dcaa30",
   "metadata": {},
   "outputs": [
    {
     "name": "stdout",
     "output_type": "stream",
     "text": [
      "4.4586345381526105\n"
     ]
    },
    {
     "data": {
      "text/plain": [
       "7     550\n",
       "1     368\n",
       "0     357\n",
       "6     307\n",
       "8     229\n",
       "5     225\n",
       "2     124\n",
       "3     119\n",
       "4      93\n",
       "9      78\n",
       "10     35\n",
       "11      4\n",
       "12      1\n",
       "Name: count, dtype: int64"
      ]
     },
     "execution_count": 74,
     "metadata": {},
     "output_type": "execute_result"
    }
   ],
   "source": [
    "df_temp = df_hoorn.iloc[:, 11:]\n",
    "\n",
    "print(df_temp.notna().sum(axis=1).mean())\n",
    "\n",
    "df_temp.notna().sum(axis=1).value_counts()\n",
    "\n"
   ]
  },
  {
   "cell_type": "markdown",
   "id": "aa5500cf-ac13-401b-9a3e-a6ca4872fa02",
   "metadata": {},
   "source": [
    "Bij de gemeente Hoorn is het duidelijk dat veel vaker ibabs attributen worden gebruikt. Het gemiddelde is hier ruim twee keer zo groot als bij Utrecht namelijk bijna 4.5 attributen per rapport. Het is hier veel zeldzamer dat er rapporten zijn zonder attributen, en 7 verschillende attributen komt hier het meest voor.\n"
   ]
  },
  {
   "cell_type": "code",
   "execution_count": 76,
   "id": "cbb1eb91-d7ef-4164-b9df-4ba2689d386e",
   "metadata": {},
   "outputs": [
    {
     "data": {
      "text/plain": [
       "foi_classificaties\n",
       "Raadsbrieven              8426\n",
       "Schriftelijke vragen      3989\n",
       "RSS                       1390\n",
       "Memo's                     945\n",
       "Verslagen M&S              576\n",
       "Verslagen S&R              406\n",
       "Verslagen Vragenuur        233\n",
       "Besluitenlijst B&W         191\n",
       "Archief                     59\n",
       "Vragen Coronavirus          51\n",
       "Export                      30\n",
       "Referendumcommissie         10\n",
       "Coalitievorming 2022         5\n",
       "Geheimhoudingsregister       4\n",
       "Name: count, dtype: int64"
      ]
     },
     "execution_count": 76,
     "metadata": {},
     "output_type": "execute_result"
    }
   ],
   "source": [
    "df_utrecht.foi_classificaties.value_counts()"
   ]
  },
  {
   "cell_type": "code",
   "execution_count": 77,
   "id": "eefe7fe6-9cda-435c-97e9-c920986c776e",
   "metadata": {},
   "outputs": [
    {
     "data": {
      "text/plain": [
       "foi_classificaties\n",
       "Moties                              651\n",
       "RSS                                 450\n",
       "Toezeggingen                        365\n",
       "Artikel 36 vragen                   349\n",
       "Ingekomen stukken - College         326\n",
       "Besluitenlijst B&W                  309\n",
       "Financiële documenten                35\n",
       "Verordeningen Raad en Commissies      5\n",
       "Name: count, dtype: int64"
      ]
     },
     "execution_count": 77,
     "metadata": {},
     "output_type": "execute_result"
    }
   ],
   "source": [
    "df_hoorn.foi_classificaties.value_counts()"
   ]
  },
  {
   "cell_type": "markdown",
   "id": "6f4ea497-b96f-4ebf-b053-f2458fdd335d",
   "metadata": {},
   "source": [
    "Hier zijn de verdelingen van die foi_classificaties. Dat deze niet bepaald uniform zijn was al bekend door een eedere analyse. Dus daar ga ik verder niet op in. Al komen RSS, en Besluitenlijst B&W wel bij beiden voor. \n",
    "\n",
    "Ik wil nu ook nog voor deze classificaties kijken hoe vaak deze een ibabs_attribuut gemiddeld voorkomt bij al deze classificaties. Want een Besluitenlijst heeft waarschijnlijk gemiddeld veel minder attributen dan een motie."
   ]
  },
  {
   "cell_type": "code",
   "execution_count": 99,
   "id": "9f74ffae-04d4-4acb-8ed3-59f2530ddba3",
   "metadata": {},
   "outputs": [
    {
     "data": {
      "text/plain": [
       "foi_classificaties\n",
       "Artikel 36 vragen                   7.14\n",
       "Besluitenlijst B&W                  0.00\n",
       "Financiële documenten               0.14\n",
       "Ingekomen stukken - College         1.06\n",
       "Moties                              6.14\n",
       "RSS                                 3.94\n",
       "Toezeggingen                        6.82\n",
       "Verordeningen Raad en Commissies    0.00\n",
       "dtype: float64"
      ]
     },
     "execution_count": 99,
     "metadata": {},
     "output_type": "execute_result"
    }
   ],
   "source": [
    "df_temp = df_hoorn.groupby('foi_classificaties').count()\n",
    "\n",
    "(df_temp.iloc[:, 10:].sum(axis=1) / df_temp['id']).round(2)"
   ]
  },
  {
   "cell_type": "markdown",
   "id": "00e7e443-950e-4999-bf1a-7c79714ed697",
   "metadata": {},
   "source": [
    "Bij Hoorn zien we dit gelijk al terug. De besluitenlijsten hebben eigenlijk nooit Ibabs attributen, terwijl de artikel 36 vragen, moties en de toezeggingen er gemiddeld meer dan 6 hebben. "
   ]
  },
  {
   "cell_type": "code",
   "execution_count": 104,
   "id": "cb0547b5-ada4-41a3-916f-8474d9cd2db1",
   "metadata": {},
   "outputs": [
    {
     "data": {
      "text/plain": [
       "foi_classificaties\n",
       "Archief                   0.15\n",
       "Besluitenlijst B&W        0.01\n",
       "Coalitievorming 2022      0.00\n",
       "Export                    2.23\n",
       "Geheimhoudingsregister    0.75\n",
       "Memo's                    1.78\n",
       "RSS                       0.02\n",
       "Raadsbrieven              1.30\n",
       "Referendumcommissie       0.00\n",
       "Schriftelijke vragen      4.93\n",
       "Verslagen M&S             0.00\n",
       "Verslagen S&R             0.00\n",
       "Verslagen Vragenuur       1.82\n",
       "Vragen Coronavirus        3.00\n",
       "dtype: float64"
      ]
     },
     "execution_count": 104,
     "metadata": {},
     "output_type": "execute_result"
    }
   ],
   "source": [
    "df_temp = df_utrecht.groupby('foi_classificaties').count()\n",
    "\n",
    "(df_temp.iloc[:, 9:].sum(axis=1) / df_temp['id']).round(2)"
   ]
  },
  {
   "cell_type": "markdown",
   "id": "50f3b6f5-854b-4dac-acf6-a1cf8736aa00",
   "metadata": {},
   "source": [
    "Ook bij de gemeente Utrecht zijn grote verschillen te zien tussen de verschillende classificaties. Deze verschillen zijn echter wel een stuk minder groot, omdat eigenlijk alle classificaties weinig attributen hebben. Alleen de schriftelijke"
   ]
  }
 ],
 "metadata": {
  "kernelspec": {
   "display_name": "Python 3 (ipykernel)",
   "language": "python",
   "name": "python3"
  },
  "language_info": {
   "codemirror_mode": {
    "name": "ipython",
    "version": 3
   },
   "file_extension": ".py",
   "mimetype": "text/x-python",
   "name": "python",
   "nbconvert_exporter": "python",
   "pygments_lexer": "ipython3",
   "version": "3.11.4"
  }
 },
 "nbformat": 4,
 "nbformat_minor": 5
}
