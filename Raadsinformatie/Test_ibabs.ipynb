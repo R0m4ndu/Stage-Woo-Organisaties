{
 "cells": [
  {
   "cell_type": "code",
   "execution_count": 46,
   "id": "94e5f291-747b-4f72-a1a7-fce0905453ea",
   "metadata": {},
   "outputs": [],
   "source": [
    "import requests\n",
    "from datetime import datetime\n",
    "import pandas as pd\n",
    "from io import StringIO\n",
    "from collections import Counter\n",
    "from selenium import webdriver\n",
    "from selenium.webdriver.common.by import By\n",
    "from selenium.webdriver.support.ui import WebDriverWait"
   ]
  },
  {
   "cell_type": "code",
   "execution_count": 2,
   "id": "ae52fbd1-53b9-44f7-8b08-d53968da2fc1",
   "metadata": {},
   "outputs": [],
   "source": [
    "# Code voor het activeren van de API\n",
    "\n",
    "def gather_metadata(org_id, count):\n",
    "\n",
    "    # URL and headers\n",
    "    url = \"https://api.openraadsinformatie.nl/v1/elastic/ori_*/_search?\"\n",
    "    headers = {\n",
    "        \"Content-Type\": \"application/json\"\n",
    "    }\n",
    "    \n",
    "    # Request JSON data\n",
    "    data = {\n",
    "        \"query\": {\n",
    "            \"bool\": {\n",
    "                \"must\": [\n",
    "                    {\n",
    "                        \"simple_query_string\": {\n",
    "                            \"fields\": [\"text\", \"title\", \"description\", \"name\"],\n",
    "                            \"default_operator\": \"or\",\n",
    "                            \"query\": \"*\"\n",
    "                        }\n",
    "                    },\n",
    "                    {\n",
    "                        \"terms\": {\n",
    "                            \"_index\": [org_id],\n",
    "                        }\n",
    "                    }\n",
    "                ]\n",
    "            }\n",
    "        },\n",
    "        \"size\": count,\n",
    "        \"_source\": {\n",
    "            \"includes\": [\"*\"],\n",
    "            \"excludes\": []\n",
    "        },\n",
    "        \"from\": 0,\n",
    "        \"sort\": [\n",
    "            {\n",
    "                \"_score\": {\n",
    "                    \"order\": \"desc\"\n",
    "                }\n",
    "            }\n",
    "        ],\n",
    "    }\n",
    "    \n",
    "    \n",
    "    # Post request versturen\n",
    "    response = requests.post(url, json=data, headers=headers)\n",
    "    \n",
    "    # Check de response\n",
    "    if response.status_code == 200:\n",
    "        result = response.json()\n",
    "    \n",
    "    else:\n",
    "        print(\"Request failed with status code:\", response.status_code)\n",
    "        print(\"Response content:\", response.text)\n",
    "\n",
    "    print(len(result['hits']['hits']))\n",
    "\n",
    "    all_results = {r['_id']: r for r in result['hits']['hits']}\n",
    "\n",
    "    return all_results\n"
   ]
  },
  {
   "cell_type": "code",
   "execution_count": 3,
   "id": "e55eb693-c305-4d52-af91-e6357af98685",
   "metadata": {},
   "outputs": [],
   "source": [
    "def process_report(id, all_results, gemeentenaam):\n",
    "    json_data = dict()\n",
    "    \n",
    "    data = all_results[id]\n",
    "\n",
    "\n",
    "    json_data['id'] = id\n",
    "    try:\n",
    "        json_data['dc_title'] = data['_source']['name']   \n",
    "    except KeyError:\n",
    "        return {}\n",
    "    json_data['dc_source'] = f\"https://{gemeentenaam}.bestuurlijkeinformatie.nl/Reports/Item/{data['_source']['was_generated_by']['original_identifier']}\"\n",
    "    json_data['dc_type'] = data['_source']['@type']   \n",
    "    json_data['foi_classificaties'] = data['_source']['classification']\n",
    "    json_data['dc_publisher'] = all_results[data['_source']['has_organization_name']]['_source']['name']\n",
    "    try:\n",
    "        json_data['dc_description'] = data['_source']['description']\n",
    "    except KeyError:\n",
    "        pass\n",
    "\n",
    "    \n",
    "    try:\n",
    "        json_data['foi_publishedDate'] = datetime.fromisoformat(data['_source']['start_date']).strftime('%Y-%m-%d')\n",
    "\n",
    "    except KeyError:\n",
    "        json_data['foi_publishedDate'] = datetime.fromisoformat(data['_source']['was_generated_by']['started_at_time']).strftime('%Y-%m-%d')\n",
    "\n",
    "    json_data['dc_date_year'] = json_data['foi_publishedDate'][:4]\n",
    "\n",
    "    foi_files = []\n",
    "    \n",
    "    if 'attachment' in data['_source']:\n",
    "\n",
    "        attachments = data['_source']['attachment']\n",
    "        if isinstance(attachments, str):\n",
    "            attachments = [attachments]\n",
    "\n",
    "    \n",
    "        for a in attachments:\n",
    "            try:\n",
    "                data = all_results[a]\n",
    "                temp_data = dict()\n",
    "                temp_data['dc_title'] = data['_source']['name']\n",
    "                temp_data['dc_type'] = data['_source']['@type']\n",
    "                temp_data['dc_source'] = data['_source']['original_url']\n",
    "                temp_data['dc_format'] = data['_source']['content_type']\n",
    "                bodytext = [txt for txt in data['_source']['text'] if txt != '\\x0c']\n",
    "                temp_data['foi_bodyText'] = bodytext\n",
    "                foi_files.append(temp_data)\n",
    "            except KeyError:\n",
    "                pass\n",
    "        \n",
    "    json_data['foi_files'] = foi_files\n",
    "\n",
    "\n",
    "    return json_data\n",
    "\n",
    "# process_report('2225935', all_results, 'waterland')"
   ]
  },
  {
   "cell_type": "code",
   "execution_count": 4,
   "id": "79a6a080-ad51-4c0d-80ee-8d1c661c80ea",
   "metadata": {},
   "outputs": [],
   "source": [
    "def create_dataframe(all_results, org_id):\n",
    "    all_result_list = []\n",
    "    \n",
    "    for k,v in all_results.items():\n",
    "        if v['_source']['@type'] == 'Report':\n",
    "            x = process_report(k, all_results, org_id.split('_')[0].lower())\n",
    "            if x != {}:\n",
    "                all_result_list.append(x)\n",
    "\n",
    "    if len(all_result_list) < 100:\n",
    "        return pd.DataFrame()\n",
    "    \n",
    "    df = pd.DataFrame(all_result_list)\n",
    "    \n",
    "    df['foi_files_length'] = df['foi_files'].apply(len)\n",
    "\n",
    "    return df"
   ]
  },
  {
   "cell_type": "code",
   "execution_count": 5,
   "id": "cbfb5807-5db3-412c-899e-523d4c6b0a14",
   "metadata": {},
   "outputs": [],
   "source": [
    "url = 'https://api.openraadsinformatie.nl/v1/elastic/_cat/indices?v'\n",
    "response = requests.get(url)\n",
    "df = pd.read_csv(StringIO(response.text), delim_whitespace=True)\n",
    "ids = [row['index'] for index, row in df.iterrows() if 'ori_' in row['index']]"
   ]
  },
  {
   "cell_type": "code",
   "execution_count": 27,
   "id": "f0cf14d5-a1e5-49e2-9f36-0fd96ea67f5c",
   "metadata": {},
   "outputs": [
    {
     "data": {
      "text/plain": [
       "Counter({'Moties': 12,\n",
       "         'Amendementen': 8,\n",
       "         'Toezeggingen': 6,\n",
       "         'Brieven aan de raad': 6,\n",
       "         'Besluitenlijst B&W': 4,\n",
       "         'RSS': 3,\n",
       "         'Ingekomen stukken': 3,\n",
       "         'Schriftelijke vragen': 3,\n",
       "         'Verslagen raad': 2,\n",
       "         'Export': 2,\n",
       "         'Raadsinformatiebrieven': 2,\n",
       "         'Raadsvragen': 2,\n",
       "         'Besluitenlijsten college': 1,\n",
       "         'Schriftelijke vragen en antwoorden': 1,\n",
       "         'Collegebrieven RSS': 1,\n",
       "         'Inwerkprogramma': 1,\n",
       "         'Burgerinitiatieven': 1,\n",
       "         'Commissie informatiebrieven': 1,\n",
       "         'export': 1,\n",
       "         'Besluitenlijsten Politieke avond Westerveld': 1,\n",
       "         'Raadsvragen (RSS)': 1,\n",
       "         'Llijst ingekomen stukken': 1,\n",
       "         'Leesmap coalitievorming': 1,\n",
       "         'Verslagen': 1,\n",
       "         'Besluitenlijst': 1,\n",
       "         'Reglementen': 1,\n",
       "         'LTA': 1,\n",
       "         'Verzoek om inlichtingen': 1,\n",
       "         'Overzicht uitgevoerde moties': 1,\n",
       "         'Notities ter info': 1,\n",
       "         'Ingediende moties': 1,\n",
       "         'Schriftelijke vragen (art 39)': 1,\n",
       "         'Besluitenlijsten B&W': 1,\n",
       "         'Artikel 41 RvO vragen en antwoorden': 1,\n",
       "         'Besluitenlijst raadsvergadering': 1,\n",
       "         'Uitnodigingen': 1,\n",
       "         'Informatie van het college': 1,\n",
       "         'Uitnodigingen gemeenteraad': 1,\n",
       "         'Besluitenlijsten Raadsvergaderingen': 1,\n",
       "         'Schriftelijke vragen (art 33 RvO)': 1,\n",
       "         'Nevenfuncties commissieleden': 1,\n",
       "         'Nevenfuncties raadsleden': 1,\n",
       "         'Nevenfuncties collegeleden': 1,\n",
       "         'Cuijk - raadsinformatiebrieven': 1,\n",
       "         'Ingekomen stukken Mill en Sint Hubert': 1,\n",
       "         'Informatie aan de Raad Grave': 1,\n",
       "         'Mill – Besluitenlijsten college': 1,\n",
       "         'Toezeggingen Grave': 1,\n",
       "         'ibo': 1,\n",
       "         'Uitzendingen raadsvergaderingen': 1,\n",
       "         'Uitzendingen commissievergaderingen': 1,\n",
       "         'Verslagen commissie Ruimtegebruik en Leefomgeving': 1,\n",
       "         'Verslagen Samenleving en Bestuur': 1,\n",
       "         'Verslagen commissie Financiën en Bedrijfsvoering': 1,\n",
       "         'Bestuurlijke vragen': 1,\n",
       "         'Moties WS export': 1,\n",
       "         'Overige openbaarmakingen Woo': 1,\n",
       "         'Artikel 36 vragen': 1,\n",
       "         'Ingekomen stukken - College': 1,\n",
       "         'Financiële documenten': 1,\n",
       "         'Verordeningen Raad en Commissies': 1,\n",
       "         'moties export': 1,\n",
       "         'Vragenhalfuurtje': 1,\n",
       "         'Verslagen Presidium': 1,\n",
       "         'Vergaderschema': 1,\n",
       "         'Ingekomen stukken iBo': 1,\n",
       "         'Rekenkamerrapporten iBo': 1,\n",
       "         'Besluitenlijsten': 1,\n",
       "         'Besluitenlijst B&W Wijchen': 1,\n",
       "         'Openbaar verslag en besluitenlijst B&W': 1,\n",
       "         'Besluitenlijst raadscommissies': 1,\n",
       "         'Schriftelijke vragen (art. 36)': 1,\n",
       "         'Besluitenlijst raad': 1,\n",
       "         'Informatie voor de raad': 1,\n",
       "         'Toezeggingen Algemeen en ruimtelijk': 1})"
      ]
     },
     "metadata": {},
     "output_type": "display_data"
    }
   ],
   "source": [
    "display(Counter(classes_list))"
   ]
  },
  {
   "cell_type": "code",
   "execution_count": 26,
   "id": "559247ae-793f-4fe0-b1c5-c649e2dd041d",
   "metadata": {},
   "outputs": [
    {
     "name": "stdout",
     "output_type": "stream",
     "text": [
      "['ori_houten_20230705230931', 'ori_roermond_20230706180932', 'ori_midden-delfland_20230706060942', 'ori_westerveld_20230707053943', 'ori_sint_anthonis_20230706193933', 'ori_heemskerk_20230705193926', 'ori_waalre_20230821160619', 'ori_bernheze_20230705063856', 'ori_nederweert_20230821160642', 'ori_vlieland_20230707020940', 'ori_beekdaelen_20230705050937', 'ori_diemen_20230705110910', 'ori_grave_20230705173939', 'ori_oldebroek_20230706120926', 'ori_wassenaar_20230707043942', 'ori_hoorn_20230821161431', 'ori_boxtel_20230705073857', 'ori_stein_20230821161036', 'ori_nijkerk_20230706090923', 'ori_wijchen_20230707070944', 'ori_zeewolde_20230707083946', 'ori_hattem_20230821160810']\n",
      "22\n",
      "116\n"
     ]
    }
   ],
   "source": [
    "print(orgs)\n",
    "print(len(orgs))\n",
    "print(len(classes_list))"
   ]
  },
  {
   "cell_type": "markdown",
   "id": "9429d35b-a711-40d6-a81a-b8551c7305db",
   "metadata": {},
   "source": [
    "Uit deze analyse blijkt dat er voor slechts 22 gemeenten al een enorme hoeveelheid verschillende termen gebruikt worden (116) er is hier dus geen enkele sprake van uniformiteit. En er zal heel veel normalizering nodig zijn voor het maken van werkbare classificaties. Er zijn wel een aantal vaker voorkomende termen vooral de standaard woorden zoals moties, amendementen, toezeggingen, brieven aan de raad en besluitenlijsten. Maar voor dit soort termen zijn vaak veel variaties aanwezig. "
   ]
  },
  {
   "cell_type": "code",
   "execution_count": 24,
   "id": "347faa25-2d02-46f6-8878-e96da7cade14",
   "metadata": {},
   "outputs": [
    {
     "data": {
      "text/plain": [
       "{'Besluitenlijsten college': 1,\n",
       " 'Besluitenlijsten Politieke avond Westerveld': 1,\n",
       " 'Besluitenlijst': 1,\n",
       " 'Besluitenlijsten B&W': 1,\n",
       " 'Besluitenlijst raadsvergadering': 1,\n",
       " 'Besluitenlijsten Raadsvergaderingen': 1,\n",
       " 'Besluitenlijst B&W': 4,\n",
       " 'Mill – Besluitenlijsten college': 1,\n",
       " 'Besluitenlijsten': 1,\n",
       " 'Besluitenlijst B&W Wijchen': 1,\n",
       " 'Openbaar verslag en besluitenlijst B&W': 1,\n",
       " 'Besluitenlijst raadscommissies': 1,\n",
       " 'Besluitenlijst raad': 1}"
      ]
     },
     "metadata": {},
     "output_type": "display_data"
    },
    {
     "name": "stdout",
     "output_type": "stream",
     "text": [
      "13\n"
     ]
    }
   ],
   "source": [
    "besluitenlijst_termen = {k: v for k, v in Counter(classes_list).items() if 'besluitenlijst' in k.lower()}\n",
    "display(besluitenlijst_termen)\n",
    "print(len(besluitenlijst_termen))"
   ]
  },
  {
   "cell_type": "markdown",
   "id": "0e6dc111-7fe5-47a0-8611-52a5908861a4",
   "metadata": {},
   "source": [
    "zo zijn er dus 13 verschillende variaties mogelijk voor besluitenlijsten. En dit betekent dus dat waarschijnlijk slechts 16 van de 22 gemeenten besluitenlijsten publiceren, als er geen heel vreemde termen zijn gebruikt. "
   ]
  },
  {
   "cell_type": "code",
   "execution_count": 30,
   "id": "271cad4e-c623-4e83-bdeb-bddc75ccffb6",
   "metadata": {},
   "outputs": [
    {
     "data": {
      "text/plain": [
       "{'Schriftelijke vragen en antwoorden': 1,\n",
       " 'Raadsvragen (RSS)': 1,\n",
       " 'Schriftelijke vragen': 3,\n",
       " 'Schriftelijke vragen (art 39)': 1,\n",
       " 'Artikel 41 RvO vragen en antwoorden': 1,\n",
       " 'Schriftelijke vragen (art 33 RvO)': 1,\n",
       " 'Bestuurlijke vragen': 1,\n",
       " 'Artikel 36 vragen': 1,\n",
       " 'Raadsvragen': 2,\n",
       " 'Vragenhalfuurtje': 1,\n",
       " 'Schriftelijke vragen (art. 36)': 1}"
      ]
     },
     "metadata": {},
     "output_type": "display_data"
    },
    {
     "name": "stdout",
     "output_type": "stream",
     "text": [
      "11\n"
     ]
    }
   ],
   "source": [
    "besluitenlijst_termen = {k: v for k, v in Counter(classes_list).items() if 'vragen' in k.lower()}\n",
    "display(besluitenlijst_termen)\n",
    "print(len(besluitenlijst_termen))"
   ]
  },
  {
   "cell_type": "markdown",
   "id": "3f97e667-47dd-4669-8f28-3b1d88f745f0",
   "metadata": {},
   "source": [
    "Bijvoorbeeld groeperen op de term vragen levert ook al merkwaardige dingen op. Want er zijn bijvoorbeeld arikel 33, 36, 39 en 41 vragen te vinden. Dus hoe ga je classificeren wat is wat. En wellicht komen al die vragen met de art naam er bij van dezelfde organisatie. Tenminste de eerste 3 neem ik aan!"
   ]
  },
  {
   "cell_type": "markdown",
   "id": "d07d1b2f-5a4a-4ce3-b9fc-92765cd8b6ae",
   "metadata": {},
   "source": [
    "Verder zijn er ook nog veel vage dingen te vinden die ik hier bijvoorbeeld helemaal niet zou verwachtten. Zoals de nevenfuncties van medewerkers. En zijn er nog veel termen te vinden die voor mij volledig onbekend zijn! Dit lijkt dus een hele grote puzzel te zijn. En dan is dit ongeveer 1/3 van de organisaties die rapporten heeft. Hopenlijk zijn de meetings meer uniform (van wat ik gezien heb denk ik het wel)."
   ]
  },
  {
   "cell_type": "code",
   "execution_count": 5,
   "id": "07385b2c-7970-42c3-b746-d6fb46aede4e",
   "metadata": {},
   "outputs": [
    {
     "name": "stdout",
     "output_type": "stream",
     "text": [
      "6154\n"
     ]
    }
   ],
   "source": [
    "id = 'ori_hoorn_20230821161431'\n",
    "all_results = gather_metadata(id, 10000)\n",
    "df = create_dataframe(all_results, id)\n"
   ]
  },
  {
   "cell_type": "code",
   "execution_count": 6,
   "id": "97230287-207a-42ea-9574-799d80143fdb",
   "metadata": {},
   "outputs": [
    {
     "name": "stdout",
     "output_type": "stream",
     "text": [
      "646 docs zeker niet machineleesbaar\n",
      "3247 docs waarschijnlijk wel machineleesbaar\n",
      "Percentage niet machineleesbaar: 19.9%\n"
     ]
    }
   ],
   "source": [
    "no_ocr = len([i for i in df.foi_files for a in i if len(''.join([txt for txt in a['foi_bodyText']])) < 20])\n",
    "all_docs = sum([len(i) for i in df.foi_files])\n",
    "print(f\"{no_ocr} docs zeker niet machineleesbaar\")\n",
    "print(f\"{all_docs} docs waarschijnlijk wel machineleesbaar\")\n",
    "print(f\"Percentage niet machineleesbaar: {round(no_ocr/all_docs*100,2)}%\")"
   ]
  },
  {
   "cell_type": "markdown",
   "id": "90ffb21d-4687-4199-a71a-e5724e08ac0d",
   "metadata": {},
   "source": [
    "Wat ik over de OCR gelezen dacht te hebben lijkt inderdaad niet te kloppen en ik kan het verder ook nergens terugvinden dus het zal wel niet zo zijn. Het blijkt namelijk dat ongeveer 20 procent van de documenten van Hoorn nog niet machineleesbaar is. "
   ]
  },
  {
   "cell_type": "code",
   "execution_count": 161,
   "id": "8677a47a-7bb2-4e03-9351-1da1a09fb7ac",
   "metadata": {},
   "outputs": [
    {
     "data": {
      "text/plain": [
       "id                       0\n",
       "dc_title                 0\n",
       "dc_source                0\n",
       "dc_type                  0\n",
       "foi_classificaties       0\n",
       "dc_publisher             0\n",
       "foi_publishedDate        0\n",
       "dc_date_year             0\n",
       "foi_files                0\n",
       "dc_description        1855\n",
       "foi_files_length         0\n",
       "dtype: int64"
      ]
     },
     "metadata": {},
     "output_type": "display_data"
    }
   ],
   "source": [
    "display(df.isna().sum())"
   ]
  },
  {
   "cell_type": "markdown",
   "id": "405c4474-fe96-4651-91b8-b40bbb071540",
   "metadata": {},
   "source": [
    "Alleen bij de dc_description kolom zijn er missing values hier. "
   ]
  },
  {
   "cell_type": "code",
   "execution_count": 159,
   "id": "b21ff8ea-1321-4606-a599-81c57e1cce81",
   "metadata": {},
   "outputs": [],
   "source": [
    "# Start a headless Chrome browser\n",
    "def scrape_ibabs(url):\n",
    "    driver = webdriver.Chrome()  # You can specify the path to the ChromeDriver executable here\n",
    "\n",
    "    driver.get(url)\n",
    "    \n",
    "    driver.implicitly_wait(1)\n",
    "    \n",
    "    # Get the page source (HTML)\n",
    "    html = driver.page_source\n",
    "    \n",
    "    # Close the WebDriver\n",
    "    driver.quit()\n",
    "    \n",
    "    # Parse the HTML with BeautifulSoup\n",
    "    soup = BeautifulSoup(html, 'html.parser')\n",
    "    \n",
    "    # Find the dl element containing the data\n",
    "    data_dl = soup.find('dl', class_='row')\n",
    "    \n",
    "    # Initialize empty lists for table headers and rows\n",
    "    table_headers = []\n",
    "    table_rows = []\n",
    "    \n",
    "    if data_dl:\n",
    "        # Find all the dt and dd elements within the dl element\n",
    "        dt_elements = data_dl.find_all('dt')\n",
    "        dd_elements = data_dl.find_all('dd')\n",
    "\n",
    "        # Extract the header and data values\n",
    "        for dt, dd in zip(dt_elements, dd_elements):\n",
    "            vote_summary = dd.find('div', class_='vote-summary')\n",
    "            ul = dd.find('ul')\n",
    "            if vote_summary:\n",
    "                in_favour_details = []\n",
    "                against_details = []\n",
    "                \n",
    "                try:\n",
    "                    percentage_vote_in_favour = vote_summary.find('span', class_='vote-summary-bar-in-favour-text').get_text()\n",
    "                    in_favour = True\n",
    "                except AttributeError:\n",
    "                    in_favour = False\n",
    "                try:\n",
    "                    percentage_vote_against = vote_summary.find('span', class_='vote-summary-bar-against-text').get_text()\n",
    "                    against = True\n",
    "                except AttributeError:\n",
    "                    against = False\n",
    "\n",
    "                vote_legend = vote_summary.find('div', class_='vote-summary-legend')\n",
    "\n",
    "                if vote_legend:\n",
    "\n",
    "                    if in_favour == True:\n",
    "                        in_favour_details = vote_legend.find('div', class_='vote-summary-legend-in-favour').text.split('voor', 1)[1].strip().split(', ')\n",
    "                    if against == True:\n",
    "                        against_details = vote_legend.find('div', class_='vote-summary-legend-against').text.split('tegen', 1)[1].strip().split(', ')\n",
    "\n",
    "                    \n",
    "                    table_headers.append(dt.get_text(strip=True))\n",
    "                    table_rows.append({'Stemmen voor': in_favour_details, 'Stemmen tegen': against_details})\n",
    "\n",
    "\n",
    "            elif ul:\n",
    "                lst = [li.get_text(strip=True) for li in ul.find_all('li')]\n",
    "    \n",
    "                table_rows.append(lst)\n",
    "                table_headers.append(dt.get_text(strip=True))\n",
    "        \n",
    "            else:\n",
    "                table_headers.append(dt.get_text(strip=True))\n",
    "                if dd.find('a'):\n",
    "                    a_element = dd.find('a')\n",
    "                    table_rows.append(f\"https://amstelveen.bestuurlijkeinformatie.nl{a_element['href']}\")\n",
    "                else:\n",
    "                    table_rows.append(dd.get_text(strip=True))\n",
    "    \n",
    "    # Create a dictionary from the headers and rows\n",
    "    data_dict = dict(zip(table_headers, table_rows))\n",
    "    \n",
    "    return data_dict"
   ]
  },
  {
   "cell_type": "code",
   "execution_count": 162,
   "id": "2b298171-e381-45f4-9d44-de17e394cb7b",
   "metadata": {},
   "outputs": [
    {
     "data": {
      "text/plain": [
       "{'ID': '709',\n",
       " 'ID Babs': '',\n",
       " 'Onderwerp': 'Con Affetto (Met Affectie)',\n",
       " 'Portefeuillehouder': 'Wethouder Ballegooijen,  van',\n",
       " 'Indieners': ['CDA', 'ChristenUnie', 'VVD'],\n",
       " 'Status': 'Aangenomen',\n",
       " 'Ingediend in': 'Raadsvergadering 18 oktober 2023',\n",
       " 'Datum ingediend': '18-10-2023',\n",
       " 'Agendapunt': 'https://amstelveen.bestuurlijkeinformatie.nl/Agenda/Index/1e5a1010-b577-474d-8e36-612d89a05b47#a25b8d40-be4e-4efc-ba4c-7a6f4fb2fcf5',\n",
       " 'Afgedaan': 'Niet afgedaan',\n",
       " 'Afgedaan met': '',\n",
       " 'Einddatum': '',\n",
       " 'Deadline': '',\n",
       " 'Opmerkingen griffie': '',\n",
       " 'Bijlage(s)': ['Motie vreemd aan de orde van de dag CDA. Con Affetto26 KB'],\n",
       " 'Stemmen': {'Stemmen voor': ['50Plus (1)',\n",
       "   'Actief voor Amstelveen (2)',\n",
       "   'Belang van Nederland (1)',\n",
       "   'Burgerbelangen Amstelveen (5)',\n",
       "   'CDA (1)',\n",
       "   'ChristenUnie (1)',\n",
       "   'D66 (7)',\n",
       "   'Goed voor Amstelveen (2)',\n",
       "   'GroenLinks (4)',\n",
       "   'PvdA (3)',\n",
       "   'SP (2)',\n",
       "   'VVD (8)'],\n",
       "  'Stemmen tegen': []}}"
      ]
     },
     "execution_count": 162,
     "metadata": {},
     "output_type": "execute_result"
    }
   ],
   "source": [
    "url = 'https://amstelveen.bestuurlijkeinformatie.nl/Reports/Item/49d3f76a-fcea-4c8c-9901-f526dd239700'\n",
    "scrape_ibabs(url)"
   ]
  },
  {
   "cell_type": "markdown",
   "id": "bb07a2e6-19ed-4dfe-ad0a-7e4e2be6e2e0",
   "metadata": {},
   "source": [
    "Hier zijn de resultaten van de iBabs scraper. Alle items van deze pagina zijn verzameld als een dict nu. De bijlage(s) key is nog niet goed, maar ik denk dat deze uiteindelijk altijd gedropt gaat worden want informatie over de bijlagen is makkelijker om te verzamelen vanuit de API. Bij het \"Stemmen\" deel is nog meer informatie te vinden over welke raadsleden voor en tegen hebben gestemd. Dus als we dit er ook nog bij willen kan dat ook.\n",
    "\n",
    "Deze code zal voor elk rapport worden uitgevoerd en de informatie van uit de API zelf kan eigenlijk worden samengevoegd met deze informatie. Informatie over de bijlagen wordt dus verzameld vanuit de attachments van de API.\n"
   ]
  },
  {
   "cell_type": "code",
   "execution_count": null,
   "id": "b9717072-ed86-4bcb-b153-2d8760c83aea",
   "metadata": {},
   "outputs": [],
   "source": []
  }
 ],
 "metadata": {
  "kernelspec": {
   "display_name": "Python 3 (ipykernel)",
   "language": "python",
   "name": "python3"
  },
  "language_info": {
   "codemirror_mode": {
    "name": "ipython",
    "version": 3
   },
   "file_extension": ".py",
   "mimetype": "text/x-python",
   "name": "python",
   "nbconvert_exporter": "python",
   "pygments_lexer": "ipython3",
   "version": "3.11.4"
  }
 },
 "nbformat": 4,
 "nbformat_minor": 5
}
